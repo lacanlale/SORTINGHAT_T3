{
 "cells": [
  {
   "cell_type": "code",
   "execution_count": 1,
   "metadata": {
    "collapsed": true
   },
   "outputs": [],
   "source": [
    "#Copyright 2019 Vraj Shah, Arun Kumar\n",
    "#\n",
    "#Licensed under the Apache License, Version 2.0 (the \"License\");\n",
    "#you may not use this file except in compliance with the License.\n",
    "#You may obtain a copy of the License at\n",
    "#\n",
    "#    http://www.apache.org/licenses/LICENSE-2.0\n",
    "#\n",
    "#Unless required by applicable law or agreed to in writing, software\n",
    "#distributed under the License is distributed on an \"AS IS\" BASIS,\n",
    "#WITHOUT WARRANTIES OR CONDITIONS OF ANY KIND, either express or implied.\n",
    "#See the License for the specific language governing permissions and\n",
    "#limitations under the License.\n",
    "\n",
    "from leven import levenshtein  \n",
    "import pandas as pd\n",
    "# from tqdm import tqdm\n",
    "from sklearn.neighbors import DistanceMetric\n",
    "import numpy as np \n",
    "from sklearn.metrics import accuracy_score\n",
    "from statistics import mode\n",
    "from sklearn.model_selection import train_test_split\n",
    "from sklearn.preprocessing import StandardScaler\n",
    "import time\n",
    "import editdistance\n",
    "from scipy import stats"
   ]
  },
  {
   "cell_type": "code",
   "execution_count": 2,
   "metadata": {},
   "outputs": [
    {
     "name": "stderr",
     "output_type": "stream",
     "text": [
      "/usr/local/lib/python2.7/dist-packages/IPython/core/interactiveshell.py:2714: DtypeWarning: Columns (2,5,10,11,12,13,14,15,17) have mixed types. Specify dtype option on import or set low_memory=False.\n",
      "  interactivity=interactivity, compiler=compiler, result=result)\n"
     ]
    }
   ],
   "source": [
    "data = pd.read_csv('data_for_ML_num.csv')\n",
    "y = data['y_act']\n",
    "key_name = data['Attribute_name']\n",
    "# structured_data = structured_data.drop(['y_act','Attribute_name','sample_1', 'sample_2','sample_3','sample_4','sample_5'],axis =1)\n",
    "data['Num of nans'] = [float(data['Num of nans'][i])/float(data['Total_val'][i]) for i in data.index]\n",
    "data['num of dist_val'] = [float(data['num of dist_val'][i])/float(data['Total_val'][i]) for i in data.index]\n",
    "\n",
    "data1 = data[['Num of nans', 'max_val', 'mean', 'min_val', 'num of dist_val','std_dev','castability','extractability', 'len_val']]\n",
    "data1 = data1.fillna(0)"
   ]
  },
  {
   "cell_type": "code",
   "execution_count": 3,
   "metadata": {
    "collapsed": true
   },
   "outputs": [],
   "source": [
    "data1 = data1.rename(columns={'mean': 'scaled_mean', 'min_val': 'scaled_min_val', 'max_val': 'scaled_max_val','std_dev': 'scaled_std_dev'})\n",
    "# X_train, X_test,y_train,y_test = train_test_split(data1,y, test_size=0.2,random_state=100)\n"
   ]
  },
  {
   "cell_type": "code",
   "execution_count": 4,
   "metadata": {},
   "outputs": [
    {
     "name": "stderr",
     "output_type": "stream",
     "text": [
      "/usr/local/lib/python2.7/dist-packages/ipykernel_launcher.py:3: SettingWithCopyWarning: \n",
      "A value is trying to be set on a copy of a slice from a DataFrame\n",
      "\n",
      "See the caveats in the documentation: http://pandas.pydata.org/pandas-docs/stable/indexing.html#indexing-view-versus-copy\n",
      "  This is separate from the ipykernel package so we can avoid doing imports until\n",
      "/usr/local/lib/python2.7/dist-packages/ipykernel_launcher.py:7: SettingWithCopyWarning: \n",
      "A value is trying to be set on a copy of a slice from a DataFrame\n",
      "\n",
      "See the caveats in the documentation: http://pandas.pydata.org/pandas-docs/stable/indexing.html#indexing-view-versus-copy\n",
      "  import sys\n",
      "/usr/local/lib/python2.7/dist-packages/ipykernel_launcher.py:5: SettingWithCopyWarning: \n",
      "A value is trying to be set on a copy of a slice from a DataFrame\n",
      "\n",
      "See the caveats in the documentation: http://pandas.pydata.org/pandas-docs/stable/indexing.html#indexing-view-versus-copy\n",
      "  \"\"\"\n",
      "/usr/local/lib/python2.7/dist-packages/ipykernel_launcher.py:9: SettingWithCopyWarning: \n",
      "A value is trying to be set on a copy of a slice from a DataFrame\n",
      "\n",
      "See the caveats in the documentation: http://pandas.pydata.org/pandas-docs/stable/indexing.html#indexing-view-versus-copy\n",
      "  if __name__ == '__main__':\n"
     ]
    }
   ],
   "source": [
    "for index, row in data1.iterrows():\n",
    "    if row['scaled_min_val'] > 10000:\n",
    "        data1.iloc[index]['scaled_min_val'] = 10000\n",
    "    if row['scaled_min_val'] < -10000:\n",
    "        data1.iloc[index]['scaled_max_val'] = -10000 \n",
    "    if row['scaled_max_val'] > 10000:\n",
    "        data1.iloc[index]['scaled_max_val'] = 10000\n",
    "    if row['scaled_max_val'] < -10000:\n",
    "        data1.iloc[index]['scaled_max_val'] = -10000\n",
    "        \n",
    "# print(data1[['scaled_min_val']])\n",
    "        \n",
    "column_names_to_normalize = ['scaled_max_val', 'scaled_mean', 'scaled_min_val','scaled_std_dev']\n",
    "# column_names_to_normalize = ['scaled_mean','scaled_std_dev', 'scaled_len_val']\n",
    "\n",
    "x = data1[column_names_to_normalize].values\n",
    "x = np.nan_to_num(x)\n",
    "x_scaled = StandardScaler().fit_transform(x)\n",
    "df_temp = pd.DataFrame(x_scaled, columns=column_names_to_normalize, index = data1.index)\n",
    "data1[column_names_to_normalize] = df_temp\n"
   ]
  },
  {
   "cell_type": "code",
   "execution_count": 5,
   "metadata": {
    "collapsed": true
   },
   "outputs": [],
   "source": [
    "data1 = data1.rename(columns={'Num of nans': 'Num_of_nans', 'num of dist_val': 'num_of_dist_val'})\n",
    "\n",
    "data1.scaled_min_val = data1.scaled_min_val.astype(float)\n",
    "data1.Num_of_nans = data1.Num_of_nans.astype(float)\n",
    "data1.num_of_dist_val = data1.num_of_dist_val.astype(float)\n",
    "data1.castability = data1.castability.astype(float)\n",
    "data1.extractability = data1.extractability.astype(float)\n",
    "# y.y_act = y.y_act.astype(float)\n",
    "\n",
    "data1.to_csv('current.csv')\n",
    "\n",
    "X_train, X_test,y_train,y_test = train_test_split(data1,y, test_size=0.2,random_state=100)\n",
    "# print(X_train)\n",
    "atr_train,atr_test = train_test_split(key_name, test_size=0.2,random_state=100)\n",
    "# print(atr_train)\n",
    "\n",
    "X_train.reset_index(inplace=True,drop=True)\n",
    "y_train.reset_index(inplace=True,drop=True)\n",
    "X_test.reset_index(inplace=True,drop=True)\n",
    "y_test.reset_index(inplace=True,drop=True)\n",
    "atr_train.reset_index(inplace=True,drop=True)\n",
    "atr_test.reset_index(inplace=True,drop=True)"
   ]
  },
  {
   "cell_type": "code",
   "execution_count": 6,
   "metadata": {},
   "outputs": [
    {
     "name": "stderr",
     "output_type": "stream",
     "text": [
      "/usr/local/lib/python2.7/dist-packages/ipykernel_launcher.py:11: FutureWarning: Method .as_matrix will be removed in a future version. Use .values instead.\n",
      "  # This is added back by InteractiveShellApp.init_path()\n",
      "/usr/local/lib/python2.7/dist-packages/ipykernel_launcher.py:12: FutureWarning: Method .as_matrix will be removed in a future version. Use .values instead.\n",
      "  if sys.path[0] == '':\n"
     ]
    },
    {
     "name": "stdout",
     "output_type": "stream",
     "text": [
      "0\n",
      "100\n",
      "200\n",
      "300\n",
      "400\n",
      "500\n",
      "600\n",
      "700\n",
      "800\n",
      "900\n",
      "1000\n",
      "1100\n",
      "1200\n",
      "1300\n",
      "1400\n",
      "1500\n",
      "1600\n",
      "1700\n",
      "1800\n",
      "[ 0.00000000e+00 -2.75347976e-02 -1.60505450e-02  2.51197969e-02\n",
      "  1.19569550e-04 -2.54573168e-02  1.00000000e+00  0.00000000e+00\n",
      "  1.00000000e+00]\n",
      "112.81501317\n"
     ]
    }
   ],
   "source": [
    "st = time.time()\n",
    "\n",
    "Matrix = [[0 for x in range(len(X_train))] for y in range(len(X_test))]\n",
    "dist_euc = DistanceMetric.get_metric('euclidean')\n",
    "\n",
    "# for i in range(len(X_test)):\n",
    "#     for j in range(len(X_train)):\n",
    "#         dist = numpy.linalg.norm(a-b)\n",
    "#         Matrix[i][j] = dist_euc.pairwise([data1.loc[i],data1.loc[j]])[0][1]\n",
    "\n",
    "np_X_train = X_train.as_matrix()\n",
    "np_X_test = X_test.as_matrix()\n",
    "\n",
    "for i in range(len(X_test)):\n",
    "    if i%100 == 0:\n",
    "        print(i)\n",
    "    a = np_X_test[i]\n",
    "    for j in range(len(X_train)):\n",
    "        b = np_X_train[j]\n",
    "        dist = np.linalg.norm(a-b)\n",
    "        Matrix[i][j] = dist\n",
    "        \n",
    "print(np_X_train[0])\n",
    "    \n",
    "print(time.time()-st)"
   ]
  },
  {
   "cell_type": "code",
   "execution_count": 7,
   "metadata": {},
   "outputs": [
    {
     "name": "stdout",
     "output_type": "stream",
     "text": [
      "[3598]\n",
      "0\n"
     ]
    }
   ],
   "source": [
    "dict_label = {'Usable directly numeric':0, 'Usable with extraction':1, 'Usable with Extration': 1, 'Usable with extraction ':1, 'Usable directly categorical':2, 'Unusable':3, 'Context_specific':4, 'Usable directly categorical ':2}\n",
    "y_train = [dict_label[i] for i in y_train]\n",
    "y_test = [dict_label[i] for i in y_test]\n",
    "\n",
    "dist = np.argsort(Matrix[0])[:1]\n",
    "print(dist)\n",
    "# print(y_train)\n",
    "print(y_train[dist[0]])"
   ]
  },
  {
   "cell_type": "code",
   "execution_count": 80,
   "metadata": {},
   "outputs": [
    {
     "data": {
      "text/plain": [
       "0.737979470556456"
      ]
     },
     "execution_count": 80,
     "metadata": {},
     "output_type": "execute_result"
    }
   ],
   "source": [
    "# 1-nearest neighbor on just Euclidean distance\n",
    "y_pred = []\n",
    "for i in range(len(X_test)):\n",
    "    dist = np.argsort(Matrix[i])[:1]\n",
    "    pred = y_train[dist[0]]\n",
    "    y_pred.append(pred)\n",
    "accuracy_score(y_test, y_pred)"
   ]
  },
  {
   "cell_type": "code",
   "execution_count": 97,
   "metadata": {},
   "outputs": [
    {
     "name": "stdout",
     "output_type": "stream",
     "text": [
      "1--->0.737979470556456\n",
      "2--->0.7260940032414911\n",
      "3--->0.7341977309562399\n",
      "4--->0.7336574824419233\n",
      "5--->0.7401404646137223\n",
      "6--->0.7417612101566721\n",
      "7--->0.7412209616423555\n",
      "8--->0.7374392220421394\n",
      "9--->0.7412209616423555\n",
      "10--->0.7363587250135062\n"
     ]
    }
   ],
   "source": [
    "for neighbr in range(1,11):\n",
    "    y_pred = []\n",
    "    for i in range(len(X_test)):\n",
    "    #     print('---')\n",
    "        dist = np.argsort(Matrix[i])[:neighbr]\n",
    "        ys = []\n",
    "        for x in dist:\n",
    "            ys.append(y_train[x])\n",
    "    #     print(ys)\n",
    "        ho = stats.mode(ys)\n",
    "    #     print(ho)\n",
    "    #     print(ho[0][0])\n",
    "        pred = ho[0][0]\n",
    "        y_pred.append(pred)\n",
    "    # print(y_pred)\n",
    "    # print(y_test)\n",
    "    acc = accuracy_score(y_test, y_pred)\n",
    "    print(str(neighbr)+'--->'+str(acc))"
   ]
  },
  {
   "cell_type": "code",
   "execution_count": 9,
   "metadata": {},
   "outputs": [
    {
     "name": "stderr",
     "output_type": "stream",
     "text": [
      "/usr/local/lib/python2.7/dist-packages/ipykernel_launcher.py:11: FutureWarning: Method .as_matrix will be removed in a future version. Use .values instead.\n",
      "  # This is added back by InteractiveShellApp.init_path()\n",
      "/usr/local/lib/python2.7/dist-packages/ipykernel_launcher.py:12: FutureWarning: Method .as_matrix will be removed in a future version. Use .values instead.\n",
      "  if sys.path[0] == '':\n"
     ]
    },
    {
     "name": "stdout",
     "output_type": "stream",
     "text": [
      "0\n",
      "100\n",
      "200\n",
      "300\n",
      "400\n",
      "500\n",
      "600\n",
      "700\n",
      "800\n",
      "900\n",
      "1000\n",
      "1100\n",
      "1200\n",
      "1300\n",
      "1400\n",
      "1500\n",
      "1600\n",
      "1700\n",
      "1800\n",
      "q22LangProfScala\n",
      "196.495404959\n"
     ]
    }
   ],
   "source": [
    "st = time.time()\n",
    "\n",
    "Matrix_ed = [[0 for x in range(len(X_train))] for y in range(len(X_test))]\n",
    "dist_euc = DistanceMetric.get_metric('euclidean')\n",
    "\n",
    "# for i in range(len(X_test)):\n",
    "#     for j in range(len(X_train)):\n",
    "#         dist = numpy.linalg.norm(a-b)\n",
    "#         Matrix[i][j] = dist_euc.pairwise([data1.loc[i],data1.loc[j]])[0][1]\n",
    "\n",
    "np_X_train = atr_train.as_matrix()\n",
    "np_X_test = atr_test.as_matrix()\n",
    "\n",
    "for i in range(len(X_test)):\n",
    "    if i%100 == 0:\n",
    "        print(i)\n",
    "    a = atr_test[i]\n",
    "    for j in range(len(X_train)):\n",
    "        b = atr_train[j]\n",
    "        dist = editdistance.eval(a,b)\n",
    "        Matrix_ed[i][j] = dist\n",
    "        \n",
    "print(np_X_train[0])\n",
    "    \n",
    "print(time.time()-st)"
   ]
  },
  {
   "cell_type": "code",
   "execution_count": 99,
   "metadata": {},
   "outputs": [
    {
     "data": {
      "text/plain": [
       "0.8022690437601296"
      ]
     },
     "execution_count": 99,
     "metadata": {},
     "output_type": "execute_result"
    }
   ],
   "source": [
    "# 1-nearest neighbor on just Attribute Name Levenstein distance\n",
    "y_pred = []\n",
    "for i in range(len(X_test)):\n",
    "    dist = np.argsort(Matrix_ed[i])[:1]\n",
    "    pred = y_train[dist[0]]\n",
    "    y_pred.append(pred)\n",
    "accuracy_score(y_test, y_pred)"
   ]
  },
  {
   "cell_type": "code",
   "execution_count": 98,
   "metadata": {},
   "outputs": [
    {
     "name": "stdout",
     "output_type": "stream",
     "text": [
      "1--->0.8022690437601296\n",
      "2--->0.797947055645597\n",
      "3--->0.8001080497028633\n",
      "4--->0.7898433279308482\n",
      "5--->0.7882225823878984\n",
      "6--->0.7876823338735819\n",
      "7--->0.7779578606158833\n",
      "8--->0.779578606158833\n",
      "9--->0.7736358725013506\n",
      "10--->0.7649918962722853\n"
     ]
    }
   ],
   "source": [
    "for neighbr in range(1,11):\n",
    "    y_pred = []\n",
    "    for i in range(len(X_test)):\n",
    "    #     print('---')\n",
    "        dist = np.argsort(Matrix_ed[i])[:neighbr]\n",
    "        ys = []\n",
    "        for x in dist:\n",
    "            ys.append(y_train[x])\n",
    "    #     print(ys)\n",
    "        ho = stats.mode(ys)\n",
    "    #     print(ho)\n",
    "    #     print(ho[0][0])\n",
    "        pred = ho[0][0]\n",
    "        y_pred.append(pred)\n",
    "    # print(y_pred)\n",
    "    # print(y_test)\n",
    "    acc = accuracy_score(y_test, y_pred)\n",
    "    print(str(neighbr)+'--->'+str(acc))    "
   ]
  },
  {
   "cell_type": "code",
   "execution_count": null,
   "metadata": {
    "collapsed": true
   },
   "outputs": [],
   "source": []
  },
  {
   "cell_type": "code",
   "execution_count": 100,
   "metadata": {},
   "outputs": [
    {
     "name": "stdout",
     "output_type": "stream",
     "text": [
      "1--->0.7790383576445165\n",
      "2--->0.8260399783900594\n",
      "3--->0.8465694219340897\n",
      "4--->0.8503511615343058\n",
      "5--->0.8600756347920043\n",
      "6--->0.8606158833063209\n",
      "7--->0.855213398163155\n",
      "8--->0.8465694219340897\n",
      "9--->0.8460291734197731\n",
      "10--->0.8406266882766072\n"
     ]
    }
   ],
   "source": [
    "# Majority vote using both Euclidean and Levenstein distance\n",
    "for neighbr in range(1,11):\n",
    "    y_pred = []\n",
    "    for i in range(len(X_test)):\n",
    "    #     print('---')\n",
    "        dist_leven = np.argsort(Matrix_ed[i])[:neighbr]\n",
    "        ys_leven = []\n",
    "        for x in dist_leven:\n",
    "            ys_leven.append(y_train[x])\n",
    "#         ho_leven = stats.mode(ys_leven)\n",
    "#         pred_leven = ho_leven[0][0]\n",
    "        \n",
    "        dist_euc = np.argsort(Matrix[i])[:neighbr]\n",
    "#         ys_euc = []\n",
    "        for x in dist_euc:\n",
    "            ys_leven.append(y_train[x])\n",
    "        ho_leven = stats.mode(ys_leven)\n",
    "        pred_leven = ho_leven[0][0]\n",
    "        \n",
    "        y_pred.append(pred_leven)\n",
    "\n",
    "    acc = accuracy_score(y_test, y_pred)\n",
    "    print(str(neighbr)+'--->'+str(acc))    "
   ]
  },
  {
   "cell_type": "code",
   "execution_count": 114,
   "metadata": {},
   "outputs": [
    {
     "name": "stdout",
     "output_type": "stream",
     "text": [
      "1--->0.6212857914640735\n",
      "2--->0.6239870340356564\n",
      "3--->0.6175040518638574\n",
      "4--->0.6137223122636413\n",
      "5--->0.6169638033495408\n",
      "6--->0.6239870340356564\n"
     ]
    },
    {
     "ename": "KeyboardInterrupt",
     "evalue": "",
     "output_type": "error",
     "traceback": [
      "\u001b[0;31m---------------------------------------------------------------------------\u001b[0m",
      "\u001b[0;31mKeyboardInterrupt\u001b[0m                         Traceback (most recent call last)",
      "\u001b[0;32m<ipython-input-114-33c667456e80>\u001b[0m in \u001b[0;36m<module>\u001b[0;34m()\u001b[0m\n\u001b[1;32m     13\u001b[0m \u001b[0;31m#         print(pred_leven)\u001b[0m\u001b[0;34m\u001b[0m\u001b[0;34m\u001b[0m\u001b[0m\n\u001b[1;32m     14\u001b[0m \u001b[0;34m\u001b[0m\u001b[0m\n\u001b[0;32m---> 15\u001b[0;31m         \u001b[0mdist_euc\u001b[0m \u001b[0;34m=\u001b[0m \u001b[0mnp\u001b[0m\u001b[0;34m.\u001b[0m\u001b[0margsort\u001b[0m\u001b[0;34m(\u001b[0m\u001b[0mMatrix\u001b[0m\u001b[0;34m[\u001b[0m\u001b[0mi\u001b[0m\u001b[0;34m]\u001b[0m\u001b[0;34m)\u001b[0m\u001b[0;34m[\u001b[0m\u001b[0;34m:\u001b[0m\u001b[0mneighbr\u001b[0m\u001b[0;34m]\u001b[0m\u001b[0;34m\u001b[0m\u001b[0m\n\u001b[0m\u001b[1;32m     16\u001b[0m         \u001b[0mys_euc\u001b[0m \u001b[0;34m=\u001b[0m \u001b[0;34m[\u001b[0m\u001b[0;34m]\u001b[0m\u001b[0;34m\u001b[0m\u001b[0m\n\u001b[1;32m     17\u001b[0m         \u001b[0;32mfor\u001b[0m \u001b[0mx\u001b[0m \u001b[0;32min\u001b[0m \u001b[0mdist_euc\u001b[0m\u001b[0;34m:\u001b[0m\u001b[0;34m\u001b[0m\u001b[0m\n",
      "\u001b[0;32m/usr/local/lib/python2.7/dist-packages/numpy/core/fromnumeric.pyc\u001b[0m in \u001b[0;36margsort\u001b[0;34m(a, axis, kind, order)\u001b[0m\n\u001b[1;32m    971\u001b[0m \u001b[0;34m\u001b[0m\u001b[0m\n\u001b[1;32m    972\u001b[0m     \"\"\"\n\u001b[0;32m--> 973\u001b[0;31m     \u001b[0;32mreturn\u001b[0m \u001b[0m_wrapfunc\u001b[0m\u001b[0;34m(\u001b[0m\u001b[0ma\u001b[0m\u001b[0;34m,\u001b[0m \u001b[0;34m'argsort'\u001b[0m\u001b[0;34m,\u001b[0m \u001b[0maxis\u001b[0m\u001b[0;34m=\u001b[0m\u001b[0maxis\u001b[0m\u001b[0;34m,\u001b[0m \u001b[0mkind\u001b[0m\u001b[0;34m=\u001b[0m\u001b[0mkind\u001b[0m\u001b[0;34m,\u001b[0m \u001b[0morder\u001b[0m\u001b[0;34m=\u001b[0m\u001b[0morder\u001b[0m\u001b[0;34m)\u001b[0m\u001b[0;34m\u001b[0m\u001b[0m\n\u001b[0m\u001b[1;32m    974\u001b[0m \u001b[0;34m\u001b[0m\u001b[0m\n\u001b[1;32m    975\u001b[0m \u001b[0;34m\u001b[0m\u001b[0m\n",
      "\u001b[0;32m/usr/local/lib/python2.7/dist-packages/numpy/core/fromnumeric.pyc\u001b[0m in \u001b[0;36m_wrapfunc\u001b[0;34m(obj, method, *args, **kwds)\u001b[0m\n\u001b[1;32m     59\u001b[0m     \u001b[0;31m# a downstream library like 'pandas'.\u001b[0m\u001b[0;34m\u001b[0m\u001b[0;34m\u001b[0m\u001b[0m\n\u001b[1;32m     60\u001b[0m     \u001b[0;32mexcept\u001b[0m \u001b[0;34m(\u001b[0m\u001b[0mAttributeError\u001b[0m\u001b[0;34m,\u001b[0m \u001b[0mTypeError\u001b[0m\u001b[0;34m)\u001b[0m\u001b[0;34m:\u001b[0m\u001b[0;34m\u001b[0m\u001b[0m\n\u001b[0;32m---> 61\u001b[0;31m         \u001b[0;32mreturn\u001b[0m \u001b[0m_wrapit\u001b[0m\u001b[0;34m(\u001b[0m\u001b[0mobj\u001b[0m\u001b[0;34m,\u001b[0m \u001b[0mmethod\u001b[0m\u001b[0;34m,\u001b[0m \u001b[0;34m*\u001b[0m\u001b[0margs\u001b[0m\u001b[0;34m,\u001b[0m \u001b[0;34m**\u001b[0m\u001b[0mkwds\u001b[0m\u001b[0;34m)\u001b[0m\u001b[0;34m\u001b[0m\u001b[0m\n\u001b[0m\u001b[1;32m     62\u001b[0m \u001b[0;34m\u001b[0m\u001b[0m\n\u001b[1;32m     63\u001b[0m \u001b[0;34m\u001b[0m\u001b[0m\n",
      "\u001b[0;32m/usr/local/lib/python2.7/dist-packages/numpy/core/fromnumeric.pyc\u001b[0m in \u001b[0;36m_wrapit\u001b[0;34m(obj, method, *args, **kwds)\u001b[0m\n\u001b[1;32m     39\u001b[0m     \u001b[0;32mexcept\u001b[0m \u001b[0mAttributeError\u001b[0m\u001b[0;34m:\u001b[0m\u001b[0;34m\u001b[0m\u001b[0m\n\u001b[1;32m     40\u001b[0m         \u001b[0mwrap\u001b[0m \u001b[0;34m=\u001b[0m \u001b[0mNone\u001b[0m\u001b[0;34m\u001b[0m\u001b[0m\n\u001b[0;32m---> 41\u001b[0;31m     \u001b[0mresult\u001b[0m \u001b[0;34m=\u001b[0m \u001b[0mgetattr\u001b[0m\u001b[0;34m(\u001b[0m\u001b[0masarray\u001b[0m\u001b[0;34m(\u001b[0m\u001b[0mobj\u001b[0m\u001b[0;34m)\u001b[0m\u001b[0;34m,\u001b[0m \u001b[0mmethod\u001b[0m\u001b[0;34m)\u001b[0m\u001b[0;34m(\u001b[0m\u001b[0;34m*\u001b[0m\u001b[0margs\u001b[0m\u001b[0;34m,\u001b[0m \u001b[0;34m**\u001b[0m\u001b[0mkwds\u001b[0m\u001b[0;34m)\u001b[0m\u001b[0;34m\u001b[0m\u001b[0m\n\u001b[0m\u001b[1;32m     42\u001b[0m     \u001b[0;32mif\u001b[0m \u001b[0mwrap\u001b[0m\u001b[0;34m:\u001b[0m\u001b[0;34m\u001b[0m\u001b[0m\n\u001b[1;32m     43\u001b[0m         \u001b[0;32mif\u001b[0m \u001b[0;32mnot\u001b[0m \u001b[0misinstance\u001b[0m\u001b[0;34m(\u001b[0m\u001b[0mresult\u001b[0m\u001b[0;34m,\u001b[0m \u001b[0mmu\u001b[0m\u001b[0;34m.\u001b[0m\u001b[0mndarray\u001b[0m\u001b[0;34m)\u001b[0m\u001b[0;34m:\u001b[0m\u001b[0;34m\u001b[0m\u001b[0m\n",
      "\u001b[0;32m/usr/local/lib/python2.7/dist-packages/numpy/core/numeric.pyc\u001b[0m in \u001b[0;36masarray\u001b[0;34m(a, dtype, order)\u001b[0m\n\u001b[1;32m    499\u001b[0m \u001b[0;34m\u001b[0m\u001b[0m\n\u001b[1;32m    500\u001b[0m     \"\"\"\n\u001b[0;32m--> 501\u001b[0;31m     \u001b[0;32mreturn\u001b[0m \u001b[0marray\u001b[0m\u001b[0;34m(\u001b[0m\u001b[0ma\u001b[0m\u001b[0;34m,\u001b[0m \u001b[0mdtype\u001b[0m\u001b[0;34m,\u001b[0m \u001b[0mcopy\u001b[0m\u001b[0;34m=\u001b[0m\u001b[0mFalse\u001b[0m\u001b[0;34m,\u001b[0m \u001b[0morder\u001b[0m\u001b[0;34m=\u001b[0m\u001b[0morder\u001b[0m\u001b[0;34m)\u001b[0m\u001b[0;34m\u001b[0m\u001b[0m\n\u001b[0m\u001b[1;32m    502\u001b[0m \u001b[0;34m\u001b[0m\u001b[0m\n\u001b[1;32m    503\u001b[0m \u001b[0;34m\u001b[0m\u001b[0m\n",
      "\u001b[0;31mKeyboardInterrupt\u001b[0m: "
     ]
    }
   ],
   "source": [
    "# Majority vote using both Euclidean and Levenstein distance\n",
    "for neighbr in range(1,11):\n",
    "    y_pred = []\n",
    "    for i in range(len(X_test)):\n",
    "#         print('---')\n",
    "        dist_leven = np.argsort(Matrix_ed[i])[:neighbr]\n",
    "        ys_leven = []\n",
    "        for x in dist_leven:\n",
    "            ys_leven.append(y_train[x])\n",
    "#             ys_leven.append(y_train[x])\n",
    "        ho_leven = stats.mode(ys_leven)\n",
    "        pred_leven1 = ho_leven[0][0]\n",
    "#         print(pred_leven)\n",
    "        \n",
    "        dist_euc = np.argsort(Matrix[i])[:neighbr]\n",
    "        ys_euc = []\n",
    "        for x in dist_euc:\n",
    "            ys_euc.append(y_train[x])\n",
    "        ho_leven = stats.mode(ys_euc)\n",
    "        pred_leven2 = ho_leven[0][0]\n",
    "#         print(pred_leven)\n",
    "        \n",
    "        merged_list = ys_leven + ys_euc\n",
    "        ho_merged = stats.mode(merged_list)\n",
    "        pred_leven3 = ho_merged[0][0]\n",
    "        \n",
    "#         print(pred_leven1,pred_leven2,pred_leven3)\n",
    "        label2return = 0\n",
    "        if pred_leven1 == pred_leven2:\n",
    "            label2return = pred_leven2\n",
    "        else:\n",
    "            label2return = 5\n",
    "    \n",
    "        y_pred.append(label2return)\n",
    "\n",
    "    acc = accuracy_score(y_test, y_pred)\n",
    "    print(str(neighbr)+'--->'+str(acc))    "
   ]
  },
  {
   "cell_type": "code",
   "execution_count": 12,
   "metadata": {},
   "outputs": [
    {
     "name": "stdout",
     "output_type": "stream",
     "text": [
      "1--->0.001--->0.8184764991896273\n",
      "2--->0.001--->0.8060507833603457\n",
      "3--->0.001--->0.8076715289032955\n",
      "4--->0.001--->0.8055105348460292\n",
      "5--->0.001--->0.8001080497028633\n",
      "6--->0.001--->0.8022690437601296\n",
      "7--->0.001--->0.8038897893030794\n",
      "8--->0.001--->0.8001080497028633\n",
      "9--->0.001--->0.7947055645596974\n",
      "10--->0.001--->0.7941653160453809\n",
      "1--->0.01--->0.8525121555915721\n",
      "2--->0.01--->0.8373851971907077\n",
      "3--->0.01--->0.8492706645056726\n",
      "4--->0.01--->0.842247433819557\n",
      "5--->0.01--->0.8363047001620746\n",
      "6--->0.01--->0.8341437061048083\n",
      "7--->0.01--->0.8363047001620746\n",
      "8--->0.01--->0.8227984873041599\n",
      "9--->0.01--->0.8109130199891951\n",
      "10--->0.01--->0.8098325229605619\n",
      "1--->0.1--->0.880064829821718\n",
      "2--->0.1--->0.8692598595353863\n",
      "3--->0.1--->0.8876283090221502\n",
      "4--->0.1--->0.8741220961642355\n",
      "5--->0.1--->0.8681793625067531\n",
      "6--->0.1--->0.8616963803349541\n",
      "7--->0.1--->0.8600756347920043\n",
      "8--->0.1--->0.8514316585629389\n",
      "9--->0.1--->0.8471096704484062\n",
      "10--->0.1--->0.8433279308481901\n",
      "1--->1--->0.8492706645056726\n",
      "2--->1--->0.8530524041058887\n",
      "3--->1--->0.8665586169638033\n",
      "4--->1--->0.8562938951917882\n",
      "5--->1--->0.8546731496488384\n",
      "6--->1--->0.8444084278768234\n",
      "7--->1--->0.839546191247974\n",
      "8--->1--->0.8368449486763911\n",
      "9--->1--->0.8271204754186926\n",
      "10--->1--->0.8195569962182604\n",
      "1--->10--->0.839546191247974\n",
      "2--->10--->0.8379254457050244\n",
      "3--->10--->0.855213398163155\n",
      "4--->10--->0.8427876823338736\n",
      "5--->10--->0.8352242031334414\n",
      "6--->10--->0.823878984332793\n",
      "7--->10--->0.8179362506753106\n",
      "8--->10--->0.8119935170178282\n",
      "9--->10--->0.804430037817396\n",
      "10--->10--->0.7984873041599135\n",
      "1--->100--->0.839546191247974\n",
      "2--->100--->0.8373851971907077\n",
      "3--->100--->0.8525121555915721\n",
      "4--->100--->0.8417071853052404\n",
      "5--->100--->0.833063209076175\n",
      "6--->100--->0.8233387358184765\n",
      "7--->100--->0.8152350081037277\n",
      "8--->100--->0.8103727714748784\n",
      "9--->100--->0.8022690437601296\n",
      "10--->100--->0.797947055645597\n",
      "1--->1000--->0.839546191247974\n",
      "2--->1000--->0.8373851971907077\n",
      "3--->1000--->0.8530524041058887\n",
      "4--->1000--->0.8411669367909238\n",
      "5--->1000--->0.8319827120475418\n",
      "6--->1000--->0.8227984873041599\n",
      "7--->1000--->0.8146947595894112\n",
      "8--->1000--->0.8092922744462453\n",
      "9--->1000--->0.8017287952458131\n",
      "10--->1000--->0.7974068071312804\n"
     ]
    }
   ],
   "source": [
    "Matrix_net = [[0 for x in range(len(X_train))] for y in range(len(X_test))]\n",
    "alpha = [0.001,0.01,0.1,1,10,100,1000]\n",
    "\n",
    "for alp in alpha:\n",
    "    for i in range(len(Matrix)):\n",
    "        for j in range(len(Matrix[i])):\n",
    "            Matrix_net[i][j] = Matrix[i][j] + alp*Matrix_ed[i][j]\n",
    "\n",
    "    for neighbr in range(1,11):\n",
    "        y_pred = []\n",
    "        for i in range(len(X_test)):\n",
    "        #     print('---')\n",
    "    #         print(Matrix_net[i])\n",
    "            dist = np.argsort(Matrix_net[i])[:neighbr]\n",
    "            ys = []\n",
    "            for x in dist:\n",
    "                ys.append(y_train[x])\n",
    "            ho = stats.mode(ys)\n",
    "            pred = ho[0][0]\n",
    "            y_pred.append(pred)\n",
    "        acc = accuracy_score(y_test, y_pred)\n",
    "        print(str(neighbr)+'--->'+str(alp)+'--->'+str(acc))"
   ]
  },
  {
   "cell_type": "code",
   "execution_count": 13,
   "metadata": {},
   "outputs": [
    {
     "name": "stdout",
     "output_type": "stream",
     "text": [
      "1--->0.05--->0.880064829821718\n",
      "2--->0.05--->0.8708806050783361\n",
      "3--->0.05--->0.8752025931928687\n",
      "4--->0.05--->0.8687196110210696\n",
      "5--->0.05--->0.864397622906537\n",
      "6--->0.05--->0.8595353862776878\n",
      "7--->0.05--->0.8530524041058887\n",
      "8--->0.05--->0.8465694219340897\n",
      "9--->0.05--->0.8379254457050244\n",
      "10--->0.05--->0.8373851971907077\n",
      "1--->0.075--->0.8789843327930849\n",
      "2--->0.075--->0.8687196110210696\n",
      "3--->0.075--->0.8822258238789843\n",
      "4--->0.075--->0.8687196110210696\n",
      "5--->0.075--->0.8633171258779039\n",
      "6--->0.075--->0.8606158833063209\n",
      "7--->0.075--->0.8595353862776878\n",
      "8--->0.075--->0.8508914100486223\n",
      "9--->0.075--->0.8438681793625068\n",
      "10--->0.075--->0.8417071853052404\n",
      "1--->0.1--->0.880064829821718\n",
      "2--->0.1--->0.8692598595353863\n",
      "3--->0.1--->0.8876283090221502\n",
      "4--->0.1--->0.8741220961642355\n",
      "5--->0.1--->0.8681793625067531\n",
      "6--->0.1--->0.8616963803349541\n",
      "7--->0.1--->0.8600756347920043\n",
      "8--->0.1--->0.8514316585629389\n",
      "9--->0.1--->0.8471096704484062\n",
      "10--->0.1--->0.8433279308481901\n",
      "1--->0.5--->0.8654781199351702\n",
      "2--->0.5--->0.8681793625067531\n",
      "3--->0.5--->0.8789843327930849\n",
      "4--->0.5--->0.8741220961642355\n",
      "5--->0.5--->0.8692598595353863\n",
      "6--->0.5--->0.857914640734738\n",
      "7--->0.5--->0.8530524041058887\n",
      "8--->0.5--->0.8492706645056726\n",
      "9--->0.5--->0.8465694219340897\n",
      "10--->0.5--->0.8449486763911399\n",
      "1--->0.75--->0.8535926526202053\n",
      "2--->0.75--->0.8600756347920043\n",
      "3--->0.75--->0.8768233387358185\n",
      "4--->0.75--->0.8687196110210696\n",
      "5--->0.75--->0.8638573743922204\n",
      "6--->0.75--->0.8573743922204214\n",
      "7--->0.75--->0.8492706645056726\n",
      "8--->0.75--->0.8427876823338736\n",
      "9--->0.75--->0.8373851971907077\n",
      "10--->0.75--->0.833063209076175\n"
     ]
    }
   ],
   "source": [
    "Matrix_net = [[0 for x in range(len(X_train))] for y in range(len(X_test))]\n",
    "alpha = [0.05,0.075,0.1,0.5,0.75]\n",
    "\n",
    "for alp in alpha:\n",
    "    for i in range(len(Matrix)):\n",
    "        for j in range(len(Matrix[i])):\n",
    "            Matrix_net[i][j] = Matrix[i][j] + alp*Matrix_ed[i][j]\n",
    "\n",
    "    for neighbr in range(1,11):\n",
    "        y_pred = []\n",
    "        for i in range(len(X_test)):\n",
    "        #     print('---')\n",
    "    #         print(Matrix_net[i])\n",
    "            dist = np.argsort(Matrix_net[i])[:neighbr]\n",
    "            ys = []\n",
    "            for x in dist:\n",
    "                ys.append(y_train[x])\n",
    "            ho = stats.mode(ys)\n",
    "            pred = ho[0][0]\n",
    "            y_pred.append(pred)\n",
    "        acc = accuracy_score(y_test, y_pred)\n",
    "        print(str(neighbr)+'--->'+str(alp)+'--->'+str(acc))"
   ]
  },
  {
   "cell_type": "code",
   "execution_count": 14,
   "metadata": {},
   "outputs": [
    {
     "name": "stdout",
     "output_type": "stream",
     "text": [
      "1--->0.001--->0.839546191247974\n",
      "2--->0.001--->0.8373851971907077\n",
      "3--->0.001--->0.8530524041058887\n",
      "4--->0.001--->0.8411669367909238\n",
      "5--->0.001--->0.8319827120475418\n",
      "6--->0.001--->0.8227984873041599\n",
      "7--->0.001--->0.8146947595894112\n",
      "8--->0.001--->0.8092922744462453\n",
      "9--->0.001--->0.8017287952458131\n",
      "10--->0.001--->0.7974068071312804\n",
      "1--->0.01--->0.839546191247974\n",
      "2--->0.01--->0.8373851971907077\n",
      "3--->0.01--->0.8525121555915721\n",
      "4--->0.01--->0.8417071853052404\n",
      "5--->0.01--->0.833063209076175\n",
      "6--->0.01--->0.8233387358184765\n",
      "7--->0.01--->0.8152350081037277\n",
      "8--->0.01--->0.8103727714748784\n",
      "9--->0.01--->0.8022690437601296\n",
      "10--->0.01--->0.797947055645597\n",
      "1--->0.1--->0.839546191247974\n",
      "2--->0.1--->0.8379254457050244\n",
      "3--->0.1--->0.855213398163155\n",
      "4--->0.1--->0.8427876823338736\n",
      "5--->0.1--->0.8352242031334414\n",
      "6--->0.1--->0.823878984332793\n",
      "7--->0.1--->0.8179362506753106\n",
      "8--->0.1--->0.8119935170178282\n",
      "9--->0.1--->0.804430037817396\n",
      "10--->0.1--->0.7984873041599135\n",
      "1--->1--->0.8492706645056726\n",
      "2--->1--->0.8530524041058887\n",
      "3--->1--->0.8665586169638033\n",
      "4--->1--->0.8562938951917882\n",
      "5--->1--->0.8546731496488384\n",
      "6--->1--->0.8444084278768234\n",
      "7--->1--->0.839546191247974\n",
      "8--->1--->0.8368449486763911\n",
      "9--->1--->0.8271204754186926\n",
      "10--->1--->0.8195569962182604\n",
      "1--->10--->0.880064829821718\n",
      "2--->10--->0.8692598595353863\n",
      "3--->10--->0.8876283090221502\n",
      "4--->10--->0.8741220961642355\n",
      "5--->10--->0.8681793625067531\n",
      "6--->10--->0.8616963803349541\n",
      "7--->10--->0.8606158833063209\n",
      "8--->10--->0.8519719070772556\n",
      "9--->10--->0.8471096704484062\n",
      "10--->10--->0.8433279308481901\n",
      "1--->100--->0.8525121555915721\n",
      "2--->100--->0.8373851971907077\n",
      "3--->100--->0.8492706645056726\n",
      "4--->100--->0.842247433819557\n",
      "5--->100--->0.8363047001620746\n",
      "6--->100--->0.8341437061048083\n",
      "7--->100--->0.8363047001620746\n",
      "8--->100--->0.8227984873041599\n",
      "9--->100--->0.8109130199891951\n",
      "10--->100--->0.8098325229605619\n",
      "1--->1000--->0.8184764991896273\n",
      "2--->1000--->0.8060507833603457\n",
      "3--->1000--->0.8076715289032955\n",
      "4--->1000--->0.8055105348460292\n",
      "5--->1000--->0.8001080497028633\n",
      "6--->1000--->0.8022690437601296\n",
      "7--->1000--->0.8038897893030794\n",
      "8--->1000--->0.8001080497028633\n",
      "9--->1000--->0.7947055645596974\n",
      "10--->1000--->0.7941653160453809\n"
     ]
    }
   ],
   "source": [
    "Matrix_net = [[0 for x in range(len(X_train))] for y in range(len(X_test))]\n",
    "alpha = [0.001,0.01,0.1,1,10,100,1000]\n",
    "\n",
    "for alp in alpha:\n",
    "    for i in range(len(Matrix)):\n",
    "        for j in range(len(Matrix[i])):\n",
    "            Matrix_net[i][j] = alp*Matrix[i][j] + Matrix_ed[i][j]\n",
    "\n",
    "    for neighbr in range(1,11):\n",
    "        y_pred = []\n",
    "        for i in range(len(X_test)):\n",
    "        #     print('---')\n",
    "    #         print(Matrix_net[i])\n",
    "            dist = np.argsort(Matrix_net[i])[:neighbr]\n",
    "            ys = []\n",
    "            for x in dist:\n",
    "                ys.append(y_train[x])\n",
    "            ho = stats.mode(ys)\n",
    "            pred = ho[0][0]\n",
    "            y_pred.append(pred)\n",
    "        acc = accuracy_score(y_test, y_pred)\n",
    "        print(str(neighbr)+'--->'+str(alp)+'--->'+str(acc))"
   ]
  },
  {
   "cell_type": "code",
   "execution_count": null,
   "metadata": {
    "collapsed": true
   },
   "outputs": [],
   "source": []
  }
 ],
 "metadata": {
  "hide_input": false,
  "kernelspec": {
   "display_name": "Python 3",
   "language": "python",
   "name": "python3"
  },
  "language_info": {
   "codemirror_mode": {
    "name": "ipython",
    "version": 3
   },
   "file_extension": ".py",
   "mimetype": "text/x-python",
   "name": "python",
   "nbconvert_exporter": "python",
   "pygments_lexer": "ipython3",
   "version": "3.6.8"
  },
  "toc": {
   "base_numbering": 1,
   "nav_menu": {},
   "number_sections": true,
   "sideBar": true,
   "skip_h1_title": false,
   "title_cell": "Table of Contents",
   "title_sidebar": "Contents",
   "toc_cell": false,
   "toc_position": {},
   "toc_section_display": true,
   "toc_window_display": false
  },
  "varInspector": {
   "cols": {
    "lenName": 16,
    "lenType": 16,
    "lenVar": 40
   },
   "kernels_config": {
    "python": {
     "delete_cmd_postfix": "",
     "delete_cmd_prefix": "del ",
     "library": "var_list.py",
     "varRefreshCmd": "print(var_dic_list())"
    },
    "r": {
     "delete_cmd_postfix": ") ",
     "delete_cmd_prefix": "rm(",
     "library": "var_list.r",
     "varRefreshCmd": "cat(var_dic_list()) "
    }
   },
   "types_to_exclude": [
    "module",
    "function",
    "builtin_function_or_method",
    "instance",
    "_Feature"
   ],
   "window_display": false
  }
 },
 "nbformat": 4,
 "nbformat_minor": 2
}
