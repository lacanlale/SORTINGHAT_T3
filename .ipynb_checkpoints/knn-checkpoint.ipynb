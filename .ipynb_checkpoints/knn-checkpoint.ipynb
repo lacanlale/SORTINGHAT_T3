{
 "cells": [
  {
   "cell_type": "code",
   "execution_count": 7,
   "metadata": {},
   "outputs": [],
   "source": [
    "from leven import levenshtein  \n",
    "from sklearn.neighbors import DistanceMetric\n",
    "from sklearn.metrics import accuracy_score\n",
    "from statistics import mode\n",
    "from sklearn.model_selection import train_test_split\n",
    "from sklearn.preprocessing import StandardScaler\n",
    "from sklearn.feature_extraction.text import CountVectorizer\n",
    "from scipy import stats\n",
    "import pandas as pd\n",
    "import numpy as np \n",
    "import time\n",
    "import editdistance"
   ]
  },
  {
   "cell_type": "markdown",
   "metadata": {},
   "source": [
    "# Preprocessing"
   ]
  },
  {
   "cell_type": "code",
   "execution_count": 8,
   "metadata": {},
   "outputs": [],
   "source": [
    "#read csv\n",
    "dict_label = {\n",
    "    'Datetime':0, \n",
    "    'Sentence':1, \n",
    "    'Custom Object': 2, \n",
    "    'URL': 3, \n",
    "    'Numbers': 4, \n",
    "    'List': 5}\n",
    "data = pd.read_csv('data/needs_extraction_data/labelled_data.csv')\n",
    "\n",
    "data['y_act'] = [dict_label[i] for i in data['y_act']]\n",
    "y = data.loc[:,['y_act']]\n",
    "key_name = data['Attribute_name']"
   ]
  },
  {
   "cell_type": "code",
   "execution_count": 9,
   "metadata": {},
   "outputs": [
    {
     "name": "stdout",
     "output_type": "stream",
     "text": [
      "> Data mean: \n",
      "scaled_perc_nans             -2.745801e-16\n",
      "scaled_mean_token_count      -1.117919e-16\n",
      "scaled_std_dev_token_count   -2.236863e-17\n",
      "has_delimiters                3.105360e-01\n",
      "dtype: float64\n",
      "> Data median: \n",
      "scaled_perc_nans             -0.653046\n",
      "scaled_mean_token_count      -0.144106\n",
      "scaled_std_dev_token_count   -0.171320\n",
      "has_delimiters                0.000000\n",
      "dtype: float64\n",
      "> Data stdev: \n",
      "scaled_perc_nans              1.000925\n",
      "scaled_mean_token_count       1.000925\n",
      "scaled_std_dev_token_count    1.000925\n",
      "has_delimiters                0.463141\n",
      "dtype: float64\n"
     ]
    }
   ],
   "source": [
    "data1 = data[['%_nans', 'mean_word_count', 'std_dev_word_count', 'has_delimiters']]\n",
    "data1 = data1.fillna(0)\n",
    "\n",
    "data1 = data1.rename(columns={'mean_word_count': 'scaled_mean_token_count', 'std_dev_word_count': 'scaled_std_dev_token_count', '%_nans': 'scaled_perc_nans'})\n",
    "data1.loc[data1['scaled_mean_token_count'] > 10000, 'scaled_mean_token_count'] = 10000\n",
    "data1.loc[data1['scaled_mean_token_count'] < -10000, 'scaled_mean_token_count'] = -10000\n",
    "data1.loc[data1['scaled_std_dev_token_count'] > 10000, 'scaled_std_dev_token_count'] = 10000\n",
    "data1.loc[data1['scaled_std_dev_token_count'] < -10000, 'scaled_std_dev_token_count'] = -10000\n",
    "data1.loc[data1['scaled_perc_nans'] > 10000, 'scaled_perc_nans'] = 10000\n",
    "data1.loc[data1['scaled_perc_nans'] < -10000, 'scaled_perc_nans'] = -10000\n",
    "column_names_to_normalize = ['scaled_mean_token_count', 'scaled_std_dev_token_count','scaled_perc_nans']\n",
    "x = data1[column_names_to_normalize].values\n",
    "x = np.nan_to_num(x)\n",
    "x_scaled = StandardScaler().fit_transform(x)\n",
    "df_temp = pd.DataFrame(x_scaled, columns=column_names_to_normalize, index = data1.index)\n",
    "data1[column_names_to_normalize] = df_temp\n",
    "\n",
    "y.y_act = y.y_act.astype(float)\n",
    "\n",
    "print(f\"> Data mean: \\n{data1.mean()}\")\n",
    "print(f\"> Data median: \\n{data1.median()}\")\n",
    "print(f\"> Data stdev: \\n{data1.std()}\")"
   ]
  },
  {
   "cell_type": "code",
   "execution_count": 10,
   "metadata": {},
   "outputs": [
    {
     "name": "stdout",
     "output_type": "stream",
     "text": [
      "X_train preview:      scaled_perc_nans  scaled_mean_token_count  scaled_std_dev_token_count  \\\n",
      "453         -0.653097                 0.686283                    3.364514   \n",
      "43          -0.653120                 0.162079                   -0.054513   \n",
      "133          1.978459                -0.148544                   -0.167108   \n",
      "205         -0.653120                -0.141062                   -0.175870   \n",
      "282         -0.653120                -0.148960                   -0.175870   \n",
      "\n",
      "     has_delimiters  \n",
      "453            True  \n",
      "43             True  \n",
      "133            True  \n",
      "205           False  \n",
      "282           False  \n",
      "y_train preview:      y_act\n",
      "453    1.0\n",
      "43     1.0\n",
      "133    2.0\n",
      "205    0.0\n",
      "282    0.0\n"
     ]
    }
   ],
   "source": [
    "X_train, X_test, y_train, y_test = train_test_split(\n",
    "    data1, y, test_size=0.2, random_state=100)\n",
    "atr_train,atr_test = train_test_split(key_name, test_size=0.2,random_state=100)\n",
    "\n",
    "# X_train_train, X_test_train,y_train_train,y_test_train = train_test_split(X_train,y_train, test_size=0.25)\n",
    "# print(X_train.head())\n",
    "# print(y_train.head())\n",
    "\n",
    "X_train_new = X_train.reset_index(drop=True)\n",
    "y_train_new = y_train.reset_index(drop=True)\n",
    "print(f\"X_train preview: {X_train.head()}\")\n",
    "print(f\"y_train preview: {y_train.head()}\")\n",
    "\n",
    "X_train_new = X_train_new.values\n",
    "y_train_new = y_train_new.values\n",
    "\n",
    "X_train.reset_index(inplace=True,drop=True)\n",
    "y_train.reset_index(inplace=True,drop=True)\n",
    "X_test.reset_index(inplace=True,drop=True)\n",
    "y_test.reset_index(inplace=True,drop=True)\n",
    "atr_train.reset_index(inplace=True,drop=True)\n",
    "atr_test.reset_index(inplace=True,drop=True)"
   ]
  },
  {
   "cell_type": "code",
   "execution_count": 12,
   "metadata": {},
   "outputs": [
    {
     "name": "stderr",
     "output_type": "stream",
     "text": [
      "/Users/admin/anaconda3/lib/python3.6/site-packages/ipykernel_launcher.py:11: FutureWarning: Method .as_matrix will be removed in a future version. Use .values instead.\n",
      "  # This is added back by InteractiveShellApp.init_path()\n",
      "/Users/admin/anaconda3/lib/python3.6/site-packages/ipykernel_launcher.py:12: FutureWarning: Method .as_matrix will be removed in a future version. Use .values instead.\n",
      "  if sys.path[0] == '':\n"
     ]
    },
    {
     "name": "stdout",
     "output_type": "stream",
     "text": [
      "> i: 0\n",
      "> i: 100\n",
      "> Time elapsed: 0.8473169803619385 seconds\n"
     ]
    }
   ],
   "source": [
    "st = time.time()\n",
    "\n",
    "Matrix = [[0 for x in range(len(X_train))] for y in range(len(X_test))]\n",
    "dist_euc = DistanceMetric.get_metric('euclidean')\n",
    "\n",
    "# for i in range(len(X_test)):\n",
    "#     for j in range(len(X_train)):\n",
    "#         dist = numpy.linalg.norm(a-b)\n",
    "#         Matrix[i][j] = dist_euc.pairwise([data1.loc[i],data1.loc[j]])[0][1]\n",
    "\n",
    "np_X_train = X_train.as_matrix()\n",
    "np_X_test = X_test.as_matrix()\n",
    "\n",
    "for i in range(len(X_test)):\n",
    "    if i % 100 == 0:\n",
    "        print(f\"> i: {i}\")\n",
    "    a = np_X_test[i]\n",
    "    for j in range(len(X_train)):\n",
    "        b = np_X_train[j]\n",
    "        dist = np.linalg.norm(a-b)\n",
    "        Matrix[i][j] = dist\n",
    "\n",
    "# print(f\"> {np_X_train[0]}\")print(f\"> Time elapsed: {time.time()-st} seconds\")"
   ]
  },
  {
   "cell_type": "markdown",
   "metadata": {},
   "source": [
    "# 1-nearest neighbor on just Euclidean distance"
   ]
  },
  {
   "cell_type": "code",
   "execution_count": 13,
   "metadata": {},
   "outputs": [
    {
     "name": "stdout",
     "output_type": "stream",
     "text": [
      "Accuracy: 0.7798165137614679\n"
     ]
    }
   ],
   "source": [
    "y_pred = []\n",
    "for i in range(len(X_test)):\n",
    "    dist = np.argsort(Matrix[i])[:1]\n",
    "    pred = y_train.iloc[dist[0]]\n",
    "    y_pred.append(pred)\n",
    "print(f\"Accuracy: {accuracy_score(y_test, y_pred)}\")"
   ]
  },
  {
   "cell_type": "code",
   "execution_count": 14,
   "metadata": {},
   "outputs": [
    {
     "name": "stdout",
     "output_type": "stream",
     "text": [
      "1 neighbors: 0.7798165137614679\n",
      "2 neighbors: 0.7431192660550459\n",
      "3 neighbors: 0.7431192660550459\n",
      "4 neighbors: 0.7064220183486238\n",
      "5 neighbors: 0.6972477064220184\n",
      "6 neighbors: 0.6972477064220184\n",
      "7 neighbors: 0.6972477064220184\n",
      "8 neighbors: 0.7064220183486238\n",
      "9 neighbors: 0.7064220183486238\n",
      "10 neighbors: 0.7155963302752294\n"
     ]
    }
   ],
   "source": [
    "for neighbr in range(1, 11):\n",
    "    y_pred = []\n",
    "    for i in range(len(X_test)):\n",
    "        #     print('---')\n",
    "        dist = np.argsort(Matrix[i])[:neighbr]\n",
    "        ys = []\n",
    "        for x in dist:\n",
    "            ys.append(y_train.iloc[x])\n",
    "    #     print(ys)\n",
    "        ho = stats.mode(ys)\n",
    "    #     print(ho)\n",
    "    #     print(ho[0][0])\n",
    "        pred = ho[0][0]\n",
    "        y_pred.append(pred)\n",
    "    # print(y_pred)\n",
    "    # print(y_test)\n",
    "    acc = accuracy_score(y_test, y_pred)\n",
    "    print(f\"{neighbr} neighbors: {acc}\")"
   ]
  },
  {
   "cell_type": "code",
   "execution_count": 15,
   "metadata": {},
   "outputs": [
    {
     "name": "stdout",
     "output_type": "stream",
     "text": [
      "> i: 0\n",
      "> i: 100\n",
      "> Time elapsed: 1.432884931564331\n"
     ]
    }
   ],
   "source": [
    "st = time.time()\n",
    "\n",
    "Matrix_ed = [[0 for x in range(len(X_train))] for y in range(len(X_test))]\n",
    "dist_euc = DistanceMetric.get_metric('euclidean')\n",
    "\n",
    "np_X_train = atr_train.values\n",
    "np_X_test = atr_test.values\n",
    "\n",
    "for i in range(len(X_test)):\n",
    "    if i % 100 == 0:\n",
    "        print(f\"> i: {i}\")\n",
    "    a = atr_test.iloc[i]\n",
    "    for j in range(len(X_train)):\n",
    "        b = atr_train.iloc[j]\n",
    "        dist = editdistance.eval(a, b)\n",
    "        Matrix_ed[i][j] = dist\n",
    "\n",
    "# print(np_X_train[0])\n",
    "print(f\"> Time elapsed: {time.time()-st}\")"
   ]
  },
  {
   "cell_type": "markdown",
   "metadata": {},
   "source": [
    "# 1-nearest neighbor on just Attribute Name Levenstein distance"
   ]
  },
  {
   "cell_type": "code",
   "execution_count": 16,
   "metadata": {},
   "outputs": [
    {
     "name": "stdout",
     "output_type": "stream",
     "text": [
      "Accuracy: 0.7981651376146789\n"
     ]
    }
   ],
   "source": [
    "y_pred = []\n",
    "for i in range(len(X_test)):\n",
    "    dist = np.argsort(Matrix_ed[i])[:1]\n",
    "    pred = y_train.iloc[dist[0]]\n",
    "    y_pred.append(pred)\n",
    "print(f\"Accuracy: {accuracy_score(y_test, y_pred)}\")"
   ]
  },
  {
   "cell_type": "code",
   "execution_count": 10,
   "metadata": {},
   "outputs": [
    {
     "name": "stdout",
     "output_type": "stream",
     "text": [
      "1 neighbors: 0.5412844036697247\n",
      "2 neighbors: 0.5229357798165137\n",
      "3 neighbors: 0.5504587155963303\n",
      "4 neighbors: 0.5321100917431193\n",
      "5 neighbors: 0.5137614678899083\n",
      "6 neighbors: 0.5137614678899083\n",
      "7 neighbors: 0.5504587155963303\n",
      "8 neighbors: 0.5504587155963303\n",
      "9 neighbors: 0.45871559633027525\n",
      "10 neighbors: 0.5137614678899083\n"
     ]
    }
   ],
   "source": [
    "for neighbr in range(1, 11):\n",
    "    y_pred = []\n",
    "    for i in range(len(X_test)):\n",
    "        #     print('---')\n",
    "        dist = np.argsort(Matrix_ed[i])[:neighbr]\n",
    "        ys = []\n",
    "        for x in dist:\n",
    "            ys.append(y_train.iloc[x])\n",
    "    #     print(ys)\n",
    "        ho = stats.mode(ys)\n",
    "    #     print(ho)\n",
    "    #     print(ho[0][0])\n",
    "        pred = ho[0][0]\n",
    "        y_pred.append(pred)\n",
    "    # print(y_pred)\n",
    "    # print(y_test)\n",
    "    acc = accuracy_score(y_test, y_pred)\n",
    "    print(f\"{neighbr} neighbors: {acc}\")"
   ]
  },
  {
   "cell_type": "markdown",
   "metadata": {},
   "source": [
    "# Majority vote using both Euclidean and Levenstein distance"
   ]
  },
  {
   "cell_type": "code",
   "execution_count": 17,
   "metadata": {},
   "outputs": [
    {
     "name": "stdout",
     "output_type": "stream",
     "text": [
      "1 neighbors: 0.7889908256880734\n",
      "2 neighbors: 0.8440366972477065\n",
      "3 neighbors: 0.8807339449541285\n",
      "4 neighbors: 0.8440366972477065\n",
      "5 neighbors: 0.8532110091743119\n",
      "6 neighbors: 0.8256880733944955\n",
      "7 neighbors: 0.8073394495412844\n",
      "8 neighbors: 0.7889908256880734\n",
      "9 neighbors: 0.8073394495412844\n",
      "10 neighbors: 0.8348623853211009\n"
     ]
    }
   ],
   "source": [
    "for neighbr in range(1, 11):\n",
    "    y_pred = []\n",
    "    for i in range(len(X_test)):\n",
    "        #     print('---')\n",
    "        dist_leven = np.argsort(Matrix_ed[i])[:neighbr]\n",
    "        ys_leven = []\n",
    "        for x in dist_leven:\n",
    "            ys_leven.append(y_train.iloc[x])\n",
    "\n",
    "        dist_euc = np.argsort(Matrix[i])[:neighbr]\n",
    "        for x in dist_euc:\n",
    "            ys_leven.append(y_train.iloc[x])\n",
    "        ho_leven = stats.mode(ys_leven)\n",
    "        pred_leven = ho_leven[0][0]\n",
    "\n",
    "        y_pred.append(pred_leven)\n",
    "\n",
    "    acc = accuracy_score(y_test, y_pred)\n",
    "    print(f\"{neighbr} neighbors: {acc}\")"
   ]
  },
  {
   "cell_type": "markdown",
   "metadata": {},
   "source": [
    "# Majority vote using both Euclidean and Levenstein distance"
   ]
  },
  {
   "cell_type": "code",
   "execution_count": 12,
   "metadata": {},
   "outputs": [
    {
     "name": "stdout",
     "output_type": "stream",
     "text": [
      "1 neighbors: 0.5321100917431193\n",
      "2 neighbors: 0.4954128440366973\n",
      "3 neighbors: 0.48623853211009177\n",
      "4 neighbors: 0.44954128440366975\n",
      "5 neighbors: 0.43119266055045874\n",
      "6 neighbors: 0.43119266055045874\n",
      "7 neighbors: 0.48623853211009177\n",
      "8 neighbors: 0.48623853211009177\n",
      "9 neighbors: 0.44036697247706424\n",
      "10 neighbors: 0.44954128440366975\n"
     ]
    }
   ],
   "source": [
    "for neighbr in range(1, 11):\n",
    "    y_pred = []\n",
    "    for i in range(len(X_test)):\n",
    "        #         print('---')\n",
    "        dist_leven = np.argsort(Matrix_ed[i])[:neighbr]\n",
    "        ys_leven = []\n",
    "        for x in dist_leven:\n",
    "            ys_leven.append(y_train.iloc[x])\n",
    "#             ys_leven.append(y_train.iloc[x])\n",
    "        ho_leven = stats.mode(ys_leven)\n",
    "        pred_leven1 = ho_leven[0][0]\n",
    "#         print(pred_leven)\n",
    "\n",
    "        dist_euc = np.argsort(Matrix[i])[:neighbr]\n",
    "        ys_euc = []\n",
    "        for x in dist_euc:\n",
    "            ys_euc.append(y_train.iloc[x])\n",
    "        ho_leven = stats.mode(ys_euc)\n",
    "        pred_leven2 = ho_leven[0][0]\n",
    "#         print(pred_leven)\n",
    "\n",
    "        merged_list = ys_leven + ys_euc\n",
    "        ho_merged = stats.mode(merged_list)\n",
    "        pred_leven3 = ho_merged[0][0]\n",
    "\n",
    "#         print(pred_leven1,pred_leven2,pred_leven3)\n",
    "        label2return = 0\n",
    "        if pred_leven1 == pred_leven2:\n",
    "            label2return = pred_leven2\n",
    "        else:\n",
    "            label2return = 5\n",
    "\n",
    "        y_pred.append(label2return)\n",
    "\n",
    "    acc = accuracy_score(y_test, y_pred)\n",
    "    print(f\"{neighbr} neighbors: {acc}\")"
   ]
  },
  {
   "cell_type": "markdown",
   "metadata": {},
   "source": [
    "# Hyperparameter testing"
   ]
  },
  {
   "cell_type": "code",
   "execution_count": 20,
   "metadata": {},
   "outputs": [
    {
     "name": "stdout",
     "output_type": "stream",
     "text": [
      "==================================================\n",
      "1 neighbors ---> Alpha 0.001 ---> 0.8256880733944955\n",
      "2 neighbors ---> Alpha 0.001 ---> 0.7706422018348624\n",
      "3 neighbors ---> Alpha 0.001 ---> 0.7798165137614679\n",
      "4 neighbors ---> Alpha 0.001 ---> 0.7431192660550459\n",
      "5 neighbors ---> Alpha 0.001 ---> 0.7339449541284404\n",
      "6 neighbors ---> Alpha 0.001 ---> 0.7522935779816514\n",
      "7 neighbors ---> Alpha 0.001 ---> 0.7706422018348624\n",
      "8 neighbors ---> Alpha 0.001 ---> 0.7614678899082569\n",
      "9 neighbors ---> Alpha 0.001 ---> 0.7522935779816514\n",
      "10 neighbors ---> Alpha 0.001 ---> 0.7431192660550459\n",
      "==================================================\n",
      "1 neighbors ---> Alpha 0.01 ---> 0.8623853211009175\n",
      "2 neighbors ---> Alpha 0.01 ---> 0.8165137614678899\n",
      "3 neighbors ---> Alpha 0.01 ---> 0.7981651376146789\n",
      "4 neighbors ---> Alpha 0.01 ---> 0.7339449541284404\n",
      "5 neighbors ---> Alpha 0.01 ---> 0.7614678899082569\n",
      "6 neighbors ---> Alpha 0.01 ---> 0.7798165137614679\n",
      "7 neighbors ---> Alpha 0.01 ---> 0.7889908256880734\n",
      "8 neighbors ---> Alpha 0.01 ---> 0.7706422018348624\n",
      "9 neighbors ---> Alpha 0.01 ---> 0.7522935779816514\n",
      "10 neighbors ---> Alpha 0.01 ---> 0.7522935779816514\n",
      "==================================================\n",
      "1 neighbors ---> Alpha 0.05 ---> 0.8623853211009175\n",
      "2 neighbors ---> Alpha 0.05 ---> 0.8440366972477065\n",
      "3 neighbors ---> Alpha 0.05 ---> 0.7706422018348624\n",
      "4 neighbors ---> Alpha 0.05 ---> 0.7522935779816514\n",
      "5 neighbors ---> Alpha 0.05 ---> 0.7706422018348624\n",
      "6 neighbors ---> Alpha 0.05 ---> 0.7889908256880734\n",
      "7 neighbors ---> Alpha 0.05 ---> 0.7614678899082569\n",
      "8 neighbors ---> Alpha 0.05 ---> 0.7614678899082569\n",
      "9 neighbors ---> Alpha 0.05 ---> 0.7798165137614679\n",
      "10 neighbors ---> Alpha 0.05 ---> 0.7614678899082569\n",
      "==================================================\n",
      "1 neighbors ---> Alpha 0.075 ---> 0.8256880733944955\n",
      "2 neighbors ---> Alpha 0.075 ---> 0.8256880733944955\n",
      "3 neighbors ---> Alpha 0.075 ---> 0.7614678899082569\n",
      "4 neighbors ---> Alpha 0.075 ---> 0.7522935779816514\n",
      "5 neighbors ---> Alpha 0.075 ---> 0.7614678899082569\n",
      "6 neighbors ---> Alpha 0.075 ---> 0.7981651376146789\n",
      "7 neighbors ---> Alpha 0.075 ---> 0.7706422018348624\n",
      "8 neighbors ---> Alpha 0.075 ---> 0.7614678899082569\n",
      "9 neighbors ---> Alpha 0.075 ---> 0.7614678899082569\n",
      "10 neighbors ---> Alpha 0.075 ---> 0.7522935779816514\n",
      "==================================================\n",
      "1 neighbors ---> Alpha 0.1 ---> 0.8440366972477065\n",
      "2 neighbors ---> Alpha 0.1 ---> 0.8256880733944955\n",
      "3 neighbors ---> Alpha 0.1 ---> 0.7522935779816514\n",
      "4 neighbors ---> Alpha 0.1 ---> 0.7614678899082569\n",
      "5 neighbors ---> Alpha 0.1 ---> 0.7614678899082569\n",
      "6 neighbors ---> Alpha 0.1 ---> 0.7798165137614679\n",
      "7 neighbors ---> Alpha 0.1 ---> 0.7522935779816514\n",
      "8 neighbors ---> Alpha 0.1 ---> 0.7614678899082569\n",
      "9 neighbors ---> Alpha 0.1 ---> 0.7614678899082569\n",
      "10 neighbors ---> Alpha 0.1 ---> 0.7522935779816514\n",
      "==================================================\n",
      "1 neighbors ---> Alpha 0.5 ---> 0.7981651376146789\n",
      "2 neighbors ---> Alpha 0.5 ---> 0.8256880733944955\n",
      "3 neighbors ---> Alpha 0.5 ---> 0.7889908256880734\n",
      "4 neighbors ---> Alpha 0.5 ---> 0.7798165137614679\n",
      "5 neighbors ---> Alpha 0.5 ---> 0.7706422018348624\n",
      "6 neighbors ---> Alpha 0.5 ---> 0.7889908256880734\n",
      "7 neighbors ---> Alpha 0.5 ---> 0.7706422018348624\n",
      "8 neighbors ---> Alpha 0.5 ---> 0.7614678899082569\n",
      "9 neighbors ---> Alpha 0.5 ---> 0.7706422018348624\n",
      "10 neighbors ---> Alpha 0.5 ---> 0.7706422018348624\n",
      "==================================================\n",
      "1 neighbors ---> Alpha 0.75 ---> 0.7981651376146789\n",
      "2 neighbors ---> Alpha 0.75 ---> 0.7981651376146789\n",
      "3 neighbors ---> Alpha 0.75 ---> 0.7706422018348624\n",
      "4 neighbors ---> Alpha 0.75 ---> 0.7614678899082569\n",
      "5 neighbors ---> Alpha 0.75 ---> 0.7798165137614679\n",
      "6 neighbors ---> Alpha 0.75 ---> 0.7981651376146789\n",
      "7 neighbors ---> Alpha 0.75 ---> 0.7798165137614679\n",
      "8 neighbors ---> Alpha 0.75 ---> 0.7798165137614679\n",
      "9 neighbors ---> Alpha 0.75 ---> 0.7798165137614679\n",
      "10 neighbors ---> Alpha 0.75 ---> 0.7614678899082569\n",
      "==================================================\n",
      "1 neighbors ---> Alpha 1 ---> 0.8165137614678899\n",
      "2 neighbors ---> Alpha 1 ---> 0.7889908256880734\n",
      "3 neighbors ---> Alpha 1 ---> 0.7339449541284404\n",
      "4 neighbors ---> Alpha 1 ---> 0.7614678899082569\n",
      "5 neighbors ---> Alpha 1 ---> 0.7614678899082569\n",
      "6 neighbors ---> Alpha 1 ---> 0.7522935779816514\n",
      "7 neighbors ---> Alpha 1 ---> 0.7522935779816514\n",
      "8 neighbors ---> Alpha 1 ---> 0.7431192660550459\n",
      "9 neighbors ---> Alpha 1 ---> 0.7522935779816514\n",
      "10 neighbors ---> Alpha 1 ---> 0.7339449541284404\n",
      "==================================================\n",
      "1 neighbors ---> Alpha 10 ---> 0.7981651376146789\n",
      "2 neighbors ---> Alpha 10 ---> 0.7981651376146789\n",
      "3 neighbors ---> Alpha 10 ---> 0.7981651376146789\n",
      "4 neighbors ---> Alpha 10 ---> 0.7706422018348624\n",
      "5 neighbors ---> Alpha 10 ---> 0.7798165137614679\n",
      "6 neighbors ---> Alpha 10 ---> 0.7614678899082569\n",
      "7 neighbors ---> Alpha 10 ---> 0.7522935779816514\n",
      "8 neighbors ---> Alpha 10 ---> 0.7522935779816514\n",
      "9 neighbors ---> Alpha 10 ---> 0.7614678899082569\n",
      "10 neighbors ---> Alpha 10 ---> 0.7155963302752294\n",
      "==================================================\n",
      "1 neighbors ---> Alpha 100 ---> 0.7981651376146789\n",
      "2 neighbors ---> Alpha 100 ---> 0.7889908256880734\n",
      "3 neighbors ---> Alpha 100 ---> 0.7522935779816514\n",
      "4 neighbors ---> Alpha 100 ---> 0.7706422018348624\n",
      "5 neighbors ---> Alpha 100 ---> 0.7706422018348624\n",
      "6 neighbors ---> Alpha 100 ---> 0.7522935779816514\n",
      "7 neighbors ---> Alpha 100 ---> 0.7431192660550459\n",
      "8 neighbors ---> Alpha 100 ---> 0.7247706422018348\n",
      "9 neighbors ---> Alpha 100 ---> 0.7522935779816514\n",
      "10 neighbors ---> Alpha 100 ---> 0.7064220183486238\n",
      "==================================================\n",
      "1 neighbors ---> Alpha 1000 ---> 0.7981651376146789\n",
      "2 neighbors ---> Alpha 1000 ---> 0.7889908256880734\n",
      "3 neighbors ---> Alpha 1000 ---> 0.7522935779816514\n",
      "4 neighbors ---> Alpha 1000 ---> 0.7706422018348624\n",
      "5 neighbors ---> Alpha 1000 ---> 0.7706422018348624\n",
      "6 neighbors ---> Alpha 1000 ---> 0.7522935779816514\n",
      "7 neighbors ---> Alpha 1000 ---> 0.7431192660550459\n",
      "8 neighbors ---> Alpha 1000 ---> 0.7247706422018348\n",
      "9 neighbors ---> Alpha 1000 ---> 0.7522935779816514\n",
      "10 neighbors ---> Alpha 1000 ---> 0.7064220183486238\n",
      "==================================================\n"
     ]
    }
   ],
   "source": [
    "param_dict = {}\n",
    "Matrix_net = [[0 for x in range(len(X_train))] for y in range(len(X_test))]\n",
    "alpha = [0.001, 0.01, 0.05, 0.075, 0.1, 0.5, 0.75, 1, 10, 100, 1000]\n",
    "\n",
    "for alp in alpha:\n",
    "    print('='*50)\n",
    "    for i in range(len(Matrix)):\n",
    "        for j in range(len(Matrix[i])):\n",
    "            Matrix_net[i][j] = Matrix[i][j] + alp*Matrix_ed[i][j]\n",
    "\n",
    "    for neighbr in range(1, 11):\n",
    "        y_pred = []\n",
    "        for i in range(len(X_test)):\n",
    "            #   print('---')\n",
    "            #   print(Matrix_net[i])\n",
    "            dist = np.argsort(Matrix_net[i])[:neighbr]\n",
    "            ys = []\n",
    "            for x in dist:\n",
    "                ys.append(y_train.iloc[x])\n",
    "            ho = stats.mode(ys)\n",
    "            pred = ho[0][0]\n",
    "            y_pred.append(pred)\n",
    "        acc = accuracy_score(y_test, y_pred)\n",
    "        param_dict[str(f\"neighbors: {neighbr}, alpha: {alp}\")] = acc\n",
    "        print(f\"{neighbr} neighbors ---> Alpha {alp} ---> {acc}\")\n",
    "print('='*50)"
   ]
  },
  {
   "cell_type": "code",
   "execution_count": 24,
   "metadata": {},
   "outputs": [
    {
     "name": "stdout",
     "output_type": "stream",
     "text": [
      "==================== [Best combination] ====================\n",
      "> neighbors: 1, alpha: 0.01 : 86.23853211009175%\n"
     ]
    }
   ],
   "source": [
    "print(\"=\"*20,\"[Best combination]\",\"=\"*20)\n",
    "best = max(param_dict, key=lambda i: param_dict[i])\n",
    "print(f\"> {best} : {param_dict[best]*100}%\")"
   ]
  },
  {
   "cell_type": "code",
   "execution_count": 29,
   "metadata": {},
   "outputs": [
    {
     "name": "stdout",
     "output_type": "stream",
     "text": [
      "==================================================\n",
      "1 neighbors ---> Alpha 0.001 ---> 0.7981651376146789\n",
      "2 neighbors ---> Alpha 0.001 ---> 0.7889908256880734\n",
      "3 neighbors ---> Alpha 0.001 ---> 0.7522935779816514\n",
      "4 neighbors ---> Alpha 0.001 ---> 0.7706422018348624\n",
      "5 neighbors ---> Alpha 0.001 ---> 0.7706422018348624\n",
      "6 neighbors ---> Alpha 0.001 ---> 0.7522935779816514\n",
      "7 neighbors ---> Alpha 0.001 ---> 0.7431192660550459\n",
      "8 neighbors ---> Alpha 0.001 ---> 0.7247706422018348\n",
      "9 neighbors ---> Alpha 0.001 ---> 0.7522935779816514\n",
      "10 neighbors ---> Alpha 0.001 ---> 0.7064220183486238\n",
      "==================================================\n",
      "1 neighbors ---> Alpha 0.01 ---> 0.7981651376146789\n",
      "2 neighbors ---> Alpha 0.01 ---> 0.7889908256880734\n",
      "3 neighbors ---> Alpha 0.01 ---> 0.7522935779816514\n",
      "4 neighbors ---> Alpha 0.01 ---> 0.7706422018348624\n",
      "5 neighbors ---> Alpha 0.01 ---> 0.7706422018348624\n",
      "6 neighbors ---> Alpha 0.01 ---> 0.7522935779816514\n",
      "7 neighbors ---> Alpha 0.01 ---> 0.7431192660550459\n",
      "8 neighbors ---> Alpha 0.01 ---> 0.7247706422018348\n",
      "9 neighbors ---> Alpha 0.01 ---> 0.7522935779816514\n",
      "10 neighbors ---> Alpha 0.01 ---> 0.7064220183486238\n",
      "==================================================\n",
      "1 neighbors ---> Alpha 0.05 ---> 0.7981651376146789\n",
      "2 neighbors ---> Alpha 0.05 ---> 0.7889908256880734\n",
      "3 neighbors ---> Alpha 0.05 ---> 0.7522935779816514\n",
      "4 neighbors ---> Alpha 0.05 ---> 0.7706422018348624\n",
      "5 neighbors ---> Alpha 0.05 ---> 0.7706422018348624\n",
      "6 neighbors ---> Alpha 0.05 ---> 0.7522935779816514\n",
      "7 neighbors ---> Alpha 0.05 ---> 0.7431192660550459\n",
      "8 neighbors ---> Alpha 0.05 ---> 0.7247706422018348\n",
      "9 neighbors ---> Alpha 0.05 ---> 0.7522935779816514\n",
      "10 neighbors ---> Alpha 0.05 ---> 0.7064220183486238\n",
      "==================================================\n",
      "1 neighbors ---> Alpha 0.075 ---> 0.7981651376146789\n",
      "2 neighbors ---> Alpha 0.075 ---> 0.7981651376146789\n",
      "3 neighbors ---> Alpha 0.075 ---> 0.7614678899082569\n",
      "4 neighbors ---> Alpha 0.075 ---> 0.7706422018348624\n",
      "5 neighbors ---> Alpha 0.075 ---> 0.7706422018348624\n",
      "6 neighbors ---> Alpha 0.075 ---> 0.7522935779816514\n",
      "7 neighbors ---> Alpha 0.075 ---> 0.7431192660550459\n",
      "8 neighbors ---> Alpha 0.075 ---> 0.7339449541284404\n",
      "9 neighbors ---> Alpha 0.075 ---> 0.7522935779816514\n",
      "10 neighbors ---> Alpha 0.075 ---> 0.7064220183486238\n",
      "==================================================\n",
      "1 neighbors ---> Alpha 0.1 ---> 0.7981651376146789\n",
      "2 neighbors ---> Alpha 0.1 ---> 0.7981651376146789\n",
      "3 neighbors ---> Alpha 0.1 ---> 0.7981651376146789\n",
      "4 neighbors ---> Alpha 0.1 ---> 0.7706422018348624\n",
      "5 neighbors ---> Alpha 0.1 ---> 0.7798165137614679\n",
      "6 neighbors ---> Alpha 0.1 ---> 0.7614678899082569\n",
      "7 neighbors ---> Alpha 0.1 ---> 0.7522935779816514\n",
      "8 neighbors ---> Alpha 0.1 ---> 0.7522935779816514\n",
      "9 neighbors ---> Alpha 0.1 ---> 0.7614678899082569\n",
      "10 neighbors ---> Alpha 0.1 ---> 0.7155963302752294\n",
      "==================================================\n",
      "1 neighbors ---> Alpha 0.5 ---> 0.7981651376146789\n",
      "2 neighbors ---> Alpha 0.5 ---> 0.8073394495412844\n",
      "3 neighbors ---> Alpha 0.5 ---> 0.7614678899082569\n",
      "4 neighbors ---> Alpha 0.5 ---> 0.7798165137614679\n",
      "5 neighbors ---> Alpha 0.5 ---> 0.7431192660550459\n",
      "6 neighbors ---> Alpha 0.5 ---> 0.7247706422018348\n",
      "7 neighbors ---> Alpha 0.5 ---> 0.7339449541284404\n",
      "8 neighbors ---> Alpha 0.5 ---> 0.7522935779816514\n",
      "9 neighbors ---> Alpha 0.5 ---> 0.7339449541284404\n",
      "10 neighbors ---> Alpha 0.5 ---> 0.7247706422018348\n",
      "==================================================\n",
      "1 neighbors ---> Alpha 0.75 ---> 0.7981651376146789\n",
      "2 neighbors ---> Alpha 0.75 ---> 0.7981651376146789\n",
      "3 neighbors ---> Alpha 0.75 ---> 0.7339449541284404\n",
      "4 neighbors ---> Alpha 0.75 ---> 0.7706422018348624\n",
      "5 neighbors ---> Alpha 0.75 ---> 0.7706422018348624\n",
      "6 neighbors ---> Alpha 0.75 ---> 0.7614678899082569\n",
      "7 neighbors ---> Alpha 0.75 ---> 0.7706422018348624\n",
      "8 neighbors ---> Alpha 0.75 ---> 0.7522935779816514\n",
      "9 neighbors ---> Alpha 0.75 ---> 0.7614678899082569\n",
      "10 neighbors ---> Alpha 0.75 ---> 0.7247706422018348\n",
      "==================================================\n",
      "1 neighbors ---> Alpha 1 ---> 0.8165137614678899\n",
      "2 neighbors ---> Alpha 1 ---> 0.7889908256880734\n",
      "3 neighbors ---> Alpha 1 ---> 0.7339449541284404\n",
      "4 neighbors ---> Alpha 1 ---> 0.7614678899082569\n",
      "5 neighbors ---> Alpha 1 ---> 0.7614678899082569\n",
      "6 neighbors ---> Alpha 1 ---> 0.7522935779816514\n",
      "7 neighbors ---> Alpha 1 ---> 0.7522935779816514\n",
      "8 neighbors ---> Alpha 1 ---> 0.7431192660550459\n",
      "9 neighbors ---> Alpha 1 ---> 0.7522935779816514\n",
      "10 neighbors ---> Alpha 1 ---> 0.7339449541284404\n",
      "==================================================\n",
      "1 neighbors ---> Alpha 10 ---> 0.8440366972477065\n",
      "2 neighbors ---> Alpha 10 ---> 0.8256880733944955\n",
      "3 neighbors ---> Alpha 10 ---> 0.7522935779816514\n",
      "4 neighbors ---> Alpha 10 ---> 0.7614678899082569\n",
      "5 neighbors ---> Alpha 10 ---> 0.7614678899082569\n",
      "6 neighbors ---> Alpha 10 ---> 0.7798165137614679\n",
      "7 neighbors ---> Alpha 10 ---> 0.7522935779816514\n",
      "8 neighbors ---> Alpha 10 ---> 0.7614678899082569\n",
      "9 neighbors ---> Alpha 10 ---> 0.7614678899082569\n",
      "10 neighbors ---> Alpha 10 ---> 0.7522935779816514\n",
      "==================================================\n",
      "1 neighbors ---> Alpha 100 ---> 0.8623853211009175\n",
      "2 neighbors ---> Alpha 100 ---> 0.8165137614678899\n",
      "3 neighbors ---> Alpha 100 ---> 0.7981651376146789\n",
      "4 neighbors ---> Alpha 100 ---> 0.7339449541284404\n",
      "5 neighbors ---> Alpha 100 ---> 0.7614678899082569\n",
      "6 neighbors ---> Alpha 100 ---> 0.7798165137614679\n",
      "7 neighbors ---> Alpha 100 ---> 0.7889908256880734\n",
      "8 neighbors ---> Alpha 100 ---> 0.7706422018348624\n",
      "9 neighbors ---> Alpha 100 ---> 0.7522935779816514\n",
      "10 neighbors ---> Alpha 100 ---> 0.7522935779816514\n",
      "==================================================\n",
      "1 neighbors ---> Alpha 1000 ---> 0.8256880733944955\n",
      "2 neighbors ---> Alpha 1000 ---> 0.7706422018348624\n",
      "3 neighbors ---> Alpha 1000 ---> 0.7798165137614679\n",
      "4 neighbors ---> Alpha 1000 ---> 0.7431192660550459\n",
      "5 neighbors ---> Alpha 1000 ---> 0.7339449541284404\n",
      "6 neighbors ---> Alpha 1000 ---> 0.7522935779816514\n",
      "7 neighbors ---> Alpha 1000 ---> 0.7706422018348624\n",
      "8 neighbors ---> Alpha 1000 ---> 0.7614678899082569\n",
      "9 neighbors ---> Alpha 1000 ---> 0.7522935779816514\n",
      "10 neighbors ---> Alpha 1000 ---> 0.7431192660550459\n",
      "==================================================\n"
     ]
    }
   ],
   "source": [
    "param_dict = {}\n",
    "Matrix_net = [[0 for x in range(len(X_train))] for y in range(len(X_test))]\n",
    "alpha = [0.001, 0.01, 0.05, 0.075, 0.1, 0.5, 0.75, 1, 10, 100, 1000]\n",
    "\n",
    "for alp in alpha:\n",
    "    print('='*50)\n",
    "    for i in range(len(Matrix)):\n",
    "        for j in range(len(Matrix[i])):\n",
    "            Matrix_net[i][j] = alp*Matrix[i][j] + Matrix_ed[i][j]\n",
    "    for neighbr in range(1, 11):\n",
    "        y_pred = []\n",
    "        for i in range(len(X_test)):\n",
    "            #   print('---')\n",
    "            #   print(Matrix_net[i])\n",
    "            dist = np.argsort(Matrix_net[i])[:neighbr]\n",
    "            ys = []\n",
    "            for x in dist:\n",
    "                ys.append(y_train.iloc[x])\n",
    "            ho = stats.mode(ys)\n",
    "            pred = ho[0][0]\n",
    "            y_pred.append(pred)\n",
    "        acc = accuracy_score(y_test, y_pred)\n",
    "        param_dict[str(f\"neighbors: {neighbr}, alpha: {alp}\")] = acc\n",
    "        print(f\"{neighbr} neighbors ---> Alpha {alp} ---> {acc}\")\n",
    "print('='*50)"
   ]
  },
  {
   "cell_type": "code",
   "execution_count": 30,
   "metadata": {},
   "outputs": [
    {
     "name": "stdout",
     "output_type": "stream",
     "text": [
      "==================== [Best combination] ====================\n",
      "> neighbors: 1, alpha: 100 : 86.23853211009175%\n"
     ]
    }
   ],
   "source": [
    "print(\"=\"*20,\"[Best combination]\",\"=\"*20)\n",
    "best = max(param_dict, key=lambda i: param_dict[i])\n",
    "print(f\"> {best} : {param_dict[best]*100}%\")"
   ]
  }
 ],
 "metadata": {
  "hide_input": false,
  "kernelspec": {
   "display_name": "Python 3",
   "language": "python",
   "name": "python3"
  },
  "language_info": {
   "codemirror_mode": {
    "name": "ipython",
    "version": 3
   },
   "file_extension": ".py",
   "mimetype": "text/x-python",
   "name": "python",
   "nbconvert_exporter": "python",
   "pygments_lexer": "ipython3",
   "version": "3.6.8"
  },
  "toc": {
   "base_numbering": 1,
   "nav_menu": {},
   "number_sections": true,
   "sideBar": true,
   "skip_h1_title": false,
   "title_cell": "Table of Contents",
   "title_sidebar": "Contents",
   "toc_cell": false,
   "toc_position": {},
   "toc_section_display": true,
   "toc_window_display": false
  },
  "varInspector": {
   "cols": {
    "lenName": 16,
    "lenType": 16,
    "lenVar": 40
   },
   "kernels_config": {
    "python": {
     "delete_cmd_postfix": "",
     "delete_cmd_prefix": "del ",
     "library": "var_list.py",
     "varRefreshCmd": "print(var_dic_list())"
    },
    "r": {
     "delete_cmd_postfix": ") ",
     "delete_cmd_prefix": "rm(",
     "library": "var_list.r",
     "varRefreshCmd": "cat(var_dic_list()) "
    }
   },
   "types_to_exclude": [
    "module",
    "function",
    "builtin_function_or_method",
    "instance",
    "_Feature"
   ],
   "window_display": false
  }
 },
 "nbformat": 4,
 "nbformat_minor": 2
}
