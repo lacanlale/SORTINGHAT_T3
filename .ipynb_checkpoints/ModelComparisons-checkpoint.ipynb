{
 "cells": [
  {
   "cell_type": "markdown",
   "metadata": {
    "toc": true
   },
   "source": [
    "<h1>Table of Contents<span class=\"tocSkip\"></span></h1>\n",
    "<div class=\"toc\"><ul class=\"toc-item\"><li><span><a href=\"#Rulebook-for-labelling\" data-toc-modified-id=\"Rulebook-for-labelling-1\"><span class=\"toc-item-num\">1&nbsp;&nbsp;</span>Rulebook for labelling</a></span><ul class=\"toc-item\"><li><span><a href=\"#Examples-from-each-category\" data-toc-modified-id=\"Examples-from-each-category-1.1\"><span class=\"toc-item-num\">1.1&nbsp;&nbsp;</span>Examples from each category</a></span></li><li><span><a href=\"#Notes-about-categories\" data-toc-modified-id=\"Notes-about-categories-1.2\"><span class=\"toc-item-num\">1.2&nbsp;&nbsp;</span>Notes about categories</a></span></li></ul></li><li><span><a href=\"#Data-Visualization\" data-toc-modified-id=\"Data-Visualization-2\"><span class=\"toc-item-num\">2&nbsp;&nbsp;</span>Data Visualization</a></span><ul class=\"toc-item\"><li><span><a href=\"#Cumulative-distribution-of-descriptive-statistics-in-the-featurized-data-file\" data-toc-modified-id=\"Cumulative-distribution-of-descriptive-statistics-in-the-featurized-data-file-2.1\"><span class=\"toc-item-num\">2.1&nbsp;&nbsp;</span>Cumulative distribution of descriptive statistics in the featurized data file</a></span></li></ul></li><li><span><a href=\"#Details-about-rulebook-based-labelling\" data-toc-modified-id=\"Details-about-rulebook-based-labelling-3\"><span class=\"toc-item-num\">3&nbsp;&nbsp;</span>Details about rulebook-based labelling</a></span><ul class=\"toc-item\"><li><span><a href=\"#Flowchart\" data-toc-modified-id=\"Flowchart-3.1\"><span class=\"toc-item-num\">3.1&nbsp;&nbsp;</span>Flowchart</a></span><ul class=\"toc-item\"><li><span><a href=\"#Task-breakdown:\" data-toc-modified-id=\"Task-breakdown:-3.1.1\"><span class=\"toc-item-num\">3.1.1&nbsp;&nbsp;</span>Task breakdown:</a></span></li></ul></li><li><span><a href=\"#Rulebased-prediction-breakdown\" data-toc-modified-id=\"Rulebased-prediction-breakdown-3.2\"><span class=\"toc-item-num\">3.2&nbsp;&nbsp;</span>Rulebased prediction breakdown</a></span></li></ul></li><li><span><a href=\"#Model-Comparison\" data-toc-modified-id=\"Model-Comparison-4\"><span class=\"toc-item-num\">4&nbsp;&nbsp;</span>Model Comparison</a></span><ul class=\"toc-item\"><li><span><a href=\"#Best-parameter-set:\" data-toc-modified-id=\"Best-parameter-set:-4.1\"><span class=\"toc-item-num\">4.1&nbsp;&nbsp;</span>Best parameter set:</a></span></li><li><span><a href=\"#Comparing-against-Pandas-api.types.infer_dtype()\" data-toc-modified-id=\"Comparing-against-Pandas-api.types.infer_dtype()-4.2\"><span class=\"toc-item-num\">4.2&nbsp;&nbsp;</span>Comparing against Pandas api.types.infer_dtype()</a></span><ul class=\"toc-item\"><li><span><a href=\"#Data-preprocessing\" data-toc-modified-id=\"Data-preprocessing-4.2.1\"><span class=\"toc-item-num\">4.2.1&nbsp;&nbsp;</span>Data preprocessing</a></span></li></ul></li></ul></li></ul></div>"
   ]
  },
  {
   "cell_type": "markdown",
   "metadata": {},
   "source": [
    "# Rulebook for labelling\n",
    "Rules/guidelines/cases for inferring data types that have been labelled “needs extraction”\n",
    "\n",
    "1. **Numbers**\n",
    "\n",
    "<u>Case a.</u> Number value proceeded and/or preceded by a unit string, as well as possibly in-between e.g. ‘100 inches, ‘$15’, ‘-0.12 amps’, ‘~23 feet’, ‘US$ PER 100 LBS’, ‘$5,000,000.00’\n",
    "\n",
    "2. **List**\n",
    "\n",
    "<u>Case b.</u> \n",
    "Text corpus that contains a delimiter that differs from standard date formats and/or may represent a variable type with the intention for computer processing e.g ‘a,b,c’, ‘word 1; word 2; word 3’, ‘{men|clothing, women|clothing, children|toys etc}’, ‘{'id': 7, 'name': 'Funny', 'count': 19645}’ \n",
    "\n",
    "3. **Datetime**\n",
    "\n",
    "<u>Case c.</u> \n",
    "Follows standard numerical formatting seen in applications e.g. ‘12.22.16’, ‘1998/01/01’, ‘30-8-2002’\n",
    "\n",
    "<u>Case d.</u> Uses a combination of strings and numbers to convey a date e.g. ‘December 1’, ‘October 30, 2019’, ‘The first of May’\n",
    "\n",
    "<u>Case e.</u> Follows standard numerical formatting seen in applications e.g. ‘12:30, ‘1:30:20’, ‘15:00’\n",
    "\n",
    "<u>Case f.</u> Uses a combination of strings and numbers to convey a time of day e.g. ‘Half past 12’, ‘12 PM’, ‘9 o’ clock in the morning’\n",
    "\n",
    "4. **Sentence**\n",
    "\n",
    "<u>Case g.</u> Text corpus that does not qualify as a date, timestamp, or URL and conveys significant contextual meaning based on the dataset (title, description, individual information, text excerpt, etc.). e.g. ‘Do schools kill creativity?’, ‘SEE TEXT’, ‘statistics, computer science’ This text should also not represent a variable type that may be intended for computer processing.\n",
    "\n",
    "5. **URL**\n",
    "\n",
    "<u>Case h.</u> Complete URL that contains a protocol prefix and/or top-level domain suffix with possible additional categorical/product information e.g. ‘google.com’, ‘https://www.ucsd.edu/’, ‘https://www.researchgate.net/blog’\n",
    "\n",
    "6. **Custom Object**\n",
    "\n",
    "<u>Case i.</u> Multiple numerical values whose context is unrelated to date or time and may require more contextual processing than other numbers e.g. \\'(-0.022, 2.2]\\', \\'(-5.0000, 33.0000)\\'\n",
    "\n",
    "<u>Case j.</u> Phrases containing words that convey specific geographic information e.g. ‘address : 9415 Campus Point Dr’, ‘mailing address: 345 Airport Rd PO Box 1242 Malta’, ‘MT 59538’\n",
    "\n",
    "<u>Case k.</u> Electronic identification data e.g. , ‘email : johndoe@website.com’, 'URL suffixes : /homebrew/recipe/view/246372/freo-pale-ale'\n",
    "\n",
    "<u>Case l.</u> Descriptive data that should have been classified by an earlier step.\n",
    "\n",
    "7. **Unusable**\n",
    "\n",
    "<u>Case m.</u> Total of NaN values is too high and/or sample items do not convey contextual background of what the data is\n"
   ]
  },
  {
   "cell_type": "markdown",
   "metadata": {},
   "source": [
    "## Examples from each category\n",
    "As seen when manually labelling. Attribute name also listed. EX: 123 *[num_val @ data.csv]*\n",
    "- **Datetime** = 0\n",
    "    - 04.01.2012 10:20:00 *[Date Time @ jena_climate_2009_2016.csv]*\n",
    "    - 1996-11-03 *[original_air_date @ simpsons_episodes.csv]*\n",
    "    - 1:00 pm *[Time of Issue @ CGB_-_Consumer_Complaints_Data.csv]*\n",
    "    - 04/06/2017 04:49:22 PM +0000 *[Ticket Created @ CGB_-_Consumer_Complaints_Data.csv]*\n",
    "    - 1:27.879 *[q2 @ qualifying.csv]*\n",
    "    - 201107220633 *[publish_time @ reuters-newswire-2011.csv]*\n",
    "- **Sentence** = 1\n",
    "    - Full screen info bubble should show human readable text for extensions / apps *[issue_title @ classifier_data_5.csv]*\n",
    "    - RT @iHub: #tractioncamp bootcamp day 2 - Growth strategy group activity @IDEVNews https://t.co/rgy55EtSKA *[tweet @ tweets.csv]*\n",
    "    - \"it should save a lot of code\" *[description @ deep_data.csv]*\n",
    "    - \"Version: Chromium Build 394171OS: 10.11.5What steps will reproduce the problem?(1) Save www.google.com as a bookmark on the Bar. (2) Hover over the bookmark.(3) Take a look at the favicon and the text.What is the expected output? What do you see instead?The favicon and the text are not vertically centered. They could be 1pt higher. At the moment the favicons are very close to bottom of the hover button.Please use labels and text to provide additional information.A screenshot is attached.Thanks,Mehmet\" *[description @ classifier_data_10.csv]*\n",
    "    - Required skills Accounts Manager *[job_requirements @ reed_uk.csv]*\n",
    "- **Custom Object** = 2 \n",
    "    - (30.26408 -97.74355) *[location @ austin_bikeshare_stations.csv]*\n",
    "    - 870 DIAMANTE QUINTAS CANOVANAS II *[STREET @ eo4.csv]*\n",
    "    - % JIMMY LOVELAND *[ICO @ eo_xx.csv]*\n",
    "    - Western calendar year *[fiscal_year_type @ official_country_data_table_4_1_total_economy_s_1_data.csv]*\n",
    "    - {\"seller\"=>{\"Seller_name_1\"=>\"ShalinIndia\", \"Seller_price_1\"=>\"£10.55\"}} *[sellers @ amazon_co-ecommerce_sample.csv]*\n",
    "- **URL** = 3\n",
    "    - https://www.ted.com/talks/manu_prakash_a_50_cent_microscope_that_folds_like_origami *[url @ transcripts.csv]*\n",
    "    - /Restaurant_Review-g189852-d2025180-Reviews-Alvsjo_Vardhus-Stockholm.html *[URL_TA @ TA_restaurants_curated.csv]*\n",
    "    - https://www.meetup.com/agstem/ *[link @ groups.csv]*\n",
    "    - http://casual-sports.meetup.com/ *[link @ topics.csv]*\n",
    "    - http://exame.abril.com.br/publicidade/siemens/conteudo-patrocinado/tecnologia-transforma-gestao-na-area-de-saude *[url @ shared_articles.csv]*\n",
    "- **Numbers** = 4\n",
    "    - 6/15 *[EXON @ clinvar_conflicting.csv]*\n",
    "    - Width 4ft *[plot_size @ san_francisco_street_trees.csv]*\n",
    "    - £15,318 per annum *[salary_offered @ reed_uk.csv]*\n",
    "    - 368 day *[days_since_review @ Hotel_Reviews.csv]*\n",
    "    - 5806N *[LAT @ Weather Station Locations.csv]*\n",
    "- **List** = 5\n",
    "    - Comp.Sci., Engineering, Math., Info.Systems, Physics or a related field *[job_info_alt_field_name @ us_perm_visas.csv]*\n",
    "    - [['Excellent Breakfast'], ['08/22/2012']] *[Reviews @ TA_restaurants_curated.csv]*\n",
    "    - [' Solo traveler ', ' Classic Single Room ', ' Stayed 2 nights '] *[Tags @ Hotel_Reviews.csv]*\n",
    "    - Characters & Brands > Disney > Toys *[amazon_category_and_sub_category @ amazon_co-ecommerce_sample.csv]*\n",
    "    - Rizaluna; Isabela; Cagayan Valley; Philippines *[names @ KIVA.DHSv2.csv]*"
   ]
  },
  {
   "cell_type": "markdown",
   "metadata": {},
   "source": [
    "## Notes about categories\n",
    "- **Datetime**\n",
    "    - Before being called *datetime*, *date* and *time* were separate categories. They were later combined because of (1) low sample numbers and (2) large amounts of entries had both date and time as a single value. \n",
    "    - Some columns will have different formats of a value\n",
    "        - *Actual example from <u>Time of Issue from CGB_-_Consumer_Complaints_Data.csv</u>*\n",
    "            - \"9:35 a.m.\" and \"1:00 pm\"\n",
    "    - Columns differ in how their dates are formatted, using either '/', '-', or none.\n",
    "- **Sentence**\n",
    "    - Varies between titles, brief descriptions, and long text excerpts\n",
    "    - Sentence may contain a link\n",
    "        - *Actual example from <u>tweet @ tweets.csv*</u>\n",
    "            - \"RT @iHub: #tractioncamp bootcamp day 2 - Growth strategy group activity @IDEVNews https://t.co/rgy55EtSKA\"\n",
    "- **Custom Object**\n",
    "    - Contains coordinate points\n",
    "        - *Actual example from <u>location @ austin_bikeshare_stations.csv</u>*\n",
    "            - \"(30.26408 -97.74355)\"\n",
    "    - Contains geographic information such as state, street address, or country\n",
    "        - *Actual example from <u>STREET @ eo4.csv</u>*\n",
    "            - \"870 DIAMANTE QUINTAS CANOVANAS II\"\n",
    "    - May be something used for further computer processing\n",
    "        - *Actual example from <u>sellers @ amazon_co-ecommerce_sample.csv</u>*\n",
    "            - \"{\"seller\"=>{\"Seller_name_1\"=>\"ShalinIndia\", \"Seller_price_1\"=>\"£10.55\"}}\"\n",
    "    - May be the name of a category that is context specific\n",
    "        - *Actual example from <u>fiscal_year_type @ official_country_data_table_4_1_total_economy_s_1_data.csv</u>\n",
    "            - \"Western calendar year\"\n",
    "        - Attribute had a high NaN percentage that it is difficult to tell the category\n",
    "        - Existing data-points are not descriptive of what category it belongs to\n",
    "- **URL**\n",
    "    - Varies between standard URL's and html paths\n",
    "- **Numbers**\n",
    "    - Some columns have values that distinguish them from being numerical values\n",
    "        - *Actual example from <u>duration from pitStops.csv</u>*\n",
    "            - Majority look similar to '26.898' but also has values similar to '1:08.357'\n",
    "- **List**\n",
    "    - Some lists look similar to programming arrays or dicts\n",
    "        - *Actual Example from <u>Reviews @ TA_restaurants_curated.csv</u>*\n",
    "            - [['Excellent Breakfast'], ['08/22/2012']]\n",
    "    - Delimiters vary (seen: *','*, *';'*, *'>'*, ' ')"
   ]
  },
  {
   "cell_type": "markdown",
   "metadata": {},
   "source": [
    "# Data Visualization"
   ]
  },
  {
   "cell_type": "code",
   "execution_count": 1,
   "metadata": {},
   "outputs": [
    {
     "name": "stderr",
     "output_type": "stream",
     "text": [
      "/Users/admin/anaconda3/lib/python3.6/site-packages/sklearn/ensemble/weight_boosting.py:29: DeprecationWarning: numpy.core.umath_tests is an internal NumPy module and should not be imported. It will be removed in a future NumPy release.\n",
      "  from numpy.core.umath_tests import inner1d\n"
     ]
    }
   ],
   "source": [
    "from matplotlib import pyplot as plt\n",
    "\n",
    "from sklearn.linear_model import LogisticRegression, LogisticRegressionCV\n",
    "from sklearn.model_selection import train_test_split\n",
    "from sklearn import preprocessing\n",
    "from sklearn.preprocessing import StandardScaler, MinMaxScaler\n",
    "from sklearn import metrics\n",
    "from sklearn.model_selection import KFold,StratifiedKFold\n",
    "from sklearn.model_selection import GridSearchCV\n",
    "from sklearn import linear_model\n",
    "from sklearn.feature_extraction.text import CountVectorizer\n",
    "from sklearn.preprocessing import OneHotEncoder\n",
    "from sklearn.feature_extraction import DictVectorizer\n",
    "from sklearn.metrics import confusion_matrix, accuracy_score\n",
    "from sklearn.tree import DecisionTreeClassifier, export_graphviz\n",
    "from sklearn.ensemble import RandomForestClassifier\n",
    "from sklearn import svm\n",
    "  \n",
    "from statistics import mode\n",
    "\n",
    "from scipy import stats\n",
    "\n",
    "import numpy as np\n",
    "import pandas as pd\n",
    "import os\n",
    "import glob\n",
    "import math\n",
    "import re\n",
    "import enchant\n",
    "import pickle\n",
    "import time\n",
    "import editdistance\n",
    "\n",
    "np.random.seed(512)\n",
    "%matplotlib inline"
   ]
  },
  {
   "cell_type": "code",
   "execution_count": 2,
   "metadata": {},
   "outputs": [],
   "source": [
    "dict_label = {\n",
    "    'Datetime':0, \n",
    "    'Sentence':1, \n",
    "    'Custom Object': 2, \n",
    "    'URL': 3, \n",
    "    'Numbers': 4, \n",
    "    'List': 5}\n",
    "\n",
    "df = pd.read_csv(\"data/needs_extraction_data/labelled_data.csv\")"
   ]
  },
  {
   "cell_type": "code",
   "execution_count": 3,
   "metadata": {},
   "outputs": [
    {
     "data": {
      "text/plain": [
       "Index(['Record_id', 'Attribute_name', 'y_pred', 'y_act', 'Reason',\n",
       "       'total_vals', 'num_nans', '%_nans', 'mean_word_count',\n",
       "       'std_dev_word_count', 'has_delimiters', 'sample_1', 'sample_2',\n",
       "       'sample_3', 'sample_4', 'sample_5'],\n",
       "      dtype='object')"
      ]
     },
     "execution_count": 3,
     "metadata": {},
     "output_type": "execute_result"
    }
   ],
   "source": [
    "df.columns"
   ]
  },
  {
   "cell_type": "code",
   "execution_count": 4,
   "metadata": {
    "scrolled": true
   },
   "outputs": [
    {
     "data": {
      "text/plain": [
       "<Figure size 1152x720 with 0 Axes>"
      ]
     },
     "metadata": {},
     "output_type": "display_data"
    },
    {
     "data": {
      "image/png": "[encoded data removed]",
      "text/plain": [
       "<Figure size 720x720 with 1 Axes>"
      ]
     },
     "metadata": {},
     "output_type": "display_data"
    }
   ],
   "source": [
    "plt.figure(figsize=(16,10))\n",
    "labels = df['y_act'].unique()\n",
    "sizes = [len(df.loc[df.y_act == col]) for col in labels]\n",
    "plt.figure(figsize=(10,10))\n",
    "plt.title('Label Distribution')\n",
    "plt.pie(sizes, labels=labels, autopct='%1.1f%%', startangle=140)\n",
    "plt.axis('equal')\n",
    "plt.show()"
   ]
  },
  {
   "cell_type": "code",
   "execution_count": 5,
   "metadata": {},
   "outputs": [],
   "source": [
    "def autolabel(rects):\n",
    "    \"\"\"\n",
    "    Attach a text label above each bar displaying its height\n",
    "    \"\"\"\n",
    "    for rect in rects:\n",
    "        height = rect.get_height()\n",
    "        plt.text(rect.get_x() + rect.get_width()/2., 1.05*height,\n",
    "                '%d' % int(height),\n",
    "                ha='center', va='bottom')\n",
    "        \n",
    "def get_avg(df, label, feat):\n",
    "    return np.mean(df.loc[df.y_act == label, feat])"
   ]
  },
  {
   "cell_type": "code",
   "execution_count": 6,
   "metadata": {},
   "outputs": [
    {
     "name": "stdout",
     "output_type": "stream",
     "text": [
      "===[Average per feature per label]===\n",
      "\n",
      "> Datetime\n",
      "\t- num_nans: 33618.08633093525\n",
      "\t- %_nans: 0.11104637325706723\n",
      "\t- mean_word_count: 1.2855925302943312\n",
      "\t- std_dev_word_count: 0.03207617805049135\n",
      "> Sentence\n",
      "\t- num_nans: 2861.229885057471\n",
      "\t- %_nans: 0.09394163375545574\n",
      "\t- mean_word_count: 108.5415167705917\n",
      "\t- std_dev_word_count: 94.06832668028714\n",
      "> Custom Object\n",
      "\t- num_nans: 49638.916\n",
      "\t- %_nans: 0.4123708441551917\n",
      "\t- mean_word_count: 3.666410056220831\n",
      "\t- std_dev_word_count: 1.7874104996939235\n",
      "> Numbers\n",
      "\t- num_nans: 8359.75\n",
      "\t- %_nans: 0.11355890208238686\n",
      "\t- mean_word_count: 1.841637273945167\n",
      "\t- std_dev_word_count: 0.13610438835684904\n",
      "> List\n",
      "\t- num_nans: 28524.571428571428\n",
      "\t- %_nans: 0.13632422582747286\n",
      "\t- mean_word_count: 6.755496892915246\n",
      "\t- std_dev_word_count: 3.403327374477097\n",
      "> URL\n",
      "\t- num_nans: 419.875\n",
      "\t- %_nans: 0.01866293553800609\n",
      "\t- mean_word_count: 1.1674342884478721\n",
      "\t- std_dev_word_count: 0.1547722820124229\n"
     ]
    }
   ],
   "source": [
    "feat_list = ['num_nans', '%_nans', 'mean_word_count',\n",
    "       'std_dev_word_count']\n",
    "\n",
    "avgs = {}\n",
    "for label in labels:\n",
    "    avgs[label] = {}\n",
    "    for feat in feat_list:\n",
    "        avgs[label][feat] = get_avg(df, label, feat)\n",
    "\n",
    "print(\"===[Average per feature per label]===\\n\")\n",
    "for lab_key, lab_val in avgs.items():\n",
    "    print(f\"> {lab_key}\")\n",
    "    for key, val in lab_val.items():\n",
    "        print(f\"\\t- {key}: {val}\")"
   ]
  },
  {
   "cell_type": "markdown",
   "metadata": {},
   "source": [
    "## Cumulative distribution of descriptive statistics in the featurized data file"
   ]
  },
  {
   "cell_type": "code",
   "execution_count": 7,
   "metadata": {},
   "outputs": [
    {
     "data": {
      "text/plain": [
       "<Figure size 1152x720 with 0 Axes>"
      ]
     },
     "metadata": {},
     "output_type": "display_data"
    }
   ],
   "source": [
    "plt.figure(figsize=(16,10))\n",
    "\n",
    "plt.show()"
   ]
  },
  {
   "cell_type": "markdown",
   "metadata": {},
   "source": [
    "# Details about rulebook-based labelling"
   ]
  },
  {
   "cell_type": "markdown",
   "metadata": {},
   "source": [
    "## Flowchart\n",
    "![alt text](charts/API_Flowchart.png \"Flowchart\")\n",
    "\n",
    "Flowchart of the rule based system. Diamondshaped nodes are the decision nodes that represents a\n",
    "“check” on the attribute. The final outcome is shown in\n",
    "orange rectangular boxes. \n",
    "\n",
    "### Task breakdown: \n",
    "- **t1:** For a column with a NaN% >=90%, we classify as a Custom Object.\n",
    "- **t2:** Columns with <90% NaN's have their mean token value calculated. If the mean is <2, it is potentially a *Datetime*, *Number*, or *URL*. Otherwise, it may be a *Sentence* or *List*. If it is none of the above, it will be classified as a *Custom Object.*\n",
    "- **t3:** Columns whose mean token value is >=2 have their standard deviation token value calculated. If the standard deviation is >= 10, the column is classified as a *Sentence.* Other wise, it is further checked.\n",
    "- **t4:** Regex is used to check for delimiters, specifically if their is a word or digit followed by a delimiter (',', '>', '|', ';', ':', '-', '.', '\\*') and followed by another word or digit. This pattern must be repeated twice or more to be matched by the regex pattern used. Anything that passes will be classified as a *List* and anything that does not will default to *Custom Object*.\n",
    "    - Example: *\"1,2,3,4\"* will <u>pass</u> but *\"1,2\"* will <u>not</u>\n",
    "    - Actual regex pattern used: \"((\\d|\\w|\\')+(,|>|;|:|\\-|`\\.|\\||\\*){1}\\s?(\\d|\\w|\\')+){2,}\"\n",
    "- **t5:** Pandas offers a built-in object *pd.Timestamp.* If the current column's samples can be casted to a *Timestamp* object, then it is classified as *Datetime*\n",
    "- **t6:** Regex is used to check if the samples are emails. Passing values are classified as *Custom Objects.* The regex used checks that there are two string values with an '@' in-between followed by '.' for the ending of the domain name\n",
    "    - Example: *\"jonedoe@fakedomain.com\"* will pass but *\"invalidemail@fakedomain.invalid\"* will not\n",
    "    - Actual regex pattern used: \"\\b[A-Za-z0-9._%+-]+@[A-Za-z0-9.-]+\\.[A-Za-z]{2,6}\\b\"\n",
    "- **t7:** Regex is used to check if the sample contains a URL. Passing samples are classified as *URL's*\n",
    "    - Actual regex pattern used: \"(http|ftp|https):\\/\\/([\\w_-]+(?:(?:\\.[\\w_-]+)+))([\\w.,@?^=%&:/~+#-]*[\\w@?^=%&/~+#-])?\"\n",
    "- **t8:** Regex is used to check for number values in the string. This regex checks for numbers with a character adjacent to or followed by the value. This regex does match sentences, but this misclassification is avoided since the mean token value is checked earlier on.\n",
    "    - Actual regex pattern used: \"([\\$|\\w]?(\\d|\\d\\.\\d|\\d\\,\\d)+\\s?[\\$|\\w]?)\""
   ]
  },
  {
   "cell_type": "markdown",
   "metadata": {},
   "source": [
    "## Rulebased prediction breakdown"
   ]
  },
  {
   "cell_type": "code",
   "execution_count": 8,
   "metadata": {},
   "outputs": [
    {
     "name": "stdout",
     "output_type": "stream",
     "text": [
      "Total predictions made using the rule based approach: 541, 100%\n",
      "- Datetime: 147\n",
      "- Sentence: 46\n",
      "- Custom Object: 239\n",
      "- Numbers: 16\n",
      "- List: 70\n",
      "- URL: 23\n",
      "\n",
      "True class distribution: 541\n",
      "- Datetime: 139\n",
      "- Sentence: 87\n",
      "- Custom Object: 250\n",
      "- Numbers: 20\n",
      "- List: 21\n",
      "- URL: 24\n",
      "\n",
      "Total correct predictions: 406, 75%\n",
      "- Datetime: 135, 91.8%\n",
      "- Sentence: 39, 84.8%\n",
      "- Custom Object: 191, 79.9%\n",
      "- Numbers: 13, 81.2%\n",
      "- List: 5, 7.14%\n",
      "- URL: 23, 100%\n",
      "\n",
      "Total incorrect predictions: 135, 25%\n",
      "- Datetime: 12, 8.16%\n",
      "- Sentence: 7, 15.2%\n",
      "- Custom Object: 48, 20.1%\n",
      "- Numbers: 3, 18.8%\n",
      "- List: 65, 92.9%\n",
      "- URL: 0, 0%\n",
      "Confusion Matrix\n",
      " [[135.   0.   4.   0.   0.   0.]\n",
      " [  0.  39.  23.   0.   0.  25.]\n",
      " [  9.   7. 191.   0.   3.  40.]\n",
      " [  0.   0.   1.  23.   0.   0.]\n",
      " [  3.   0.   4.   0.  13.   0.]\n",
      " [  0.   0.  16.   0.   0.   5.]]\n"
     ]
    }
   ],
   "source": [
    "labelled = pd.read_csv(\"data/needs_extraction_data/rulebook_labelled.csv\").fillna('NANVAL!')\n",
    "labelled_items = labelled.loc[labelled.y_pred != 'NANVAL!']\n",
    "correct = labelled_items.loc[labelled_items.y_act == labelled_items.y_pred]\n",
    "incorrect = labelled_items.loc[labelled_items.y_act != labelled_items.y_pred]\n",
    "print(f\"Total predictions made using the rule based approach: {len(labelled_items)}, {'{0:.3g}'.format((len(labelled_items)/len(labelled))*100)}%\")\n",
    "for label in labels:\n",
    "    print(f\"- {label}: {len(labelled_items.loc[labelled_items.y_pred == label])}\")\n",
    "print()\n",
    "print(f\"True class distribution: {len(df)}\")\n",
    "for label in labels:\n",
    "    print(f\"- {label}: {len(df.loc[df.y_act == label])}\")\n",
    "print()\n",
    "print(f\"Total correct predictions: {len(correct)}, {'{0:.3g}'.format((len(correct)/len(labelled_items))*100)}%\")\n",
    "for label in labels:\n",
    "    if(len(labelled_items.loc[labelled_items.y_pred == label])):\n",
    "        print(f\"- {label}: {len(correct.loc[correct.y_pred == label])}, {'{0:.3g}'.format((len(correct.loc[correct.y_pred == label])/len(labelled_items.loc[labelled_items.y_pred == label]))*100)}%\")\n",
    "    else:\n",
    "        print(f\"- {label}: 0, 0%\")\n",
    "print()\n",
    "print(f\"Total incorrect predictions: {len(incorrect)}, {'{0:.3g}'.format((len(incorrect)/len(labelled_items))*100)}%\")\n",
    "for label in labels:\n",
    "    if(len(labelled_items.loc[labelled_items.y_pred == label])):\n",
    "        print(f\"- {label}: {len(incorrect.loc[incorrect.y_pred == label])}, {'{0:.3g}'.format((len(incorrect.loc[incorrect.y_pred == label])/len(labelled_items.loc[labelled_items.y_pred == label]))*100)}%\")\n",
    "    else:\n",
    "        print(f\"- {label}: 0, 0%\")\n",
    "        \n",
    "labelled_items['y_act'] = [dict_label[i] for i in labelled_items['y_act']]\n",
    "labelled_items['y_pred'] = [dict_label[i] for i in labelled_items['y_pred']]\n",
    "actual = np.array(labelled_items.y_act)\n",
    "predicted = np.array(labelled_items.y_pred)\n",
    "\n",
    "cm = np.zeros((len(labels), len(labels)))\n",
    "for a, p in zip(actual, predicted):\n",
    "    cm[a][p] += 1\n",
    "print(\"Confusion Matrix\\n\", cm)"
   ]
  },
  {
   "cell_type": "markdown",
   "metadata": {},
   "source": [
    "**Confusion matrix**\n",
    "![alt text](charts/rulebased_conf_matrix.png)"
   ]
  },
  {
   "cell_type": "code",
   "execution_count": 9,
   "metadata": {},
   "outputs": [
    {
     "data": {
      "image/png": "[encoded data removed]",
      "text/plain": [
       "<Figure size 1152x720 with 2 Axes>"
      ]
     },
     "metadata": {},
     "output_type": "display_data"
    }
   ],
   "source": [
    "plt.figure(figsize=(16,10))\n",
    "plt.subplot(1,2,1)\n",
    "pred_sizes = [len(labelled.loc[labelled.y_pred != 'NANVAL!'].loc[labelled.y_pred == label]) for label in labels]\n",
    "plt.title('Predicted')\n",
    "plt.pie(pred_sizes, labels=labels, autopct='%1.1f%%', startangle=140)\n",
    "plt.axis('equal')\n",
    "\n",
    "plt.subplot(1,2,2)\n",
    "non_sizes = [len(labelled.loc[labelled.y_pred != labelled.y_act].loc[labelled.y_act == label]) for label in labels]\n",
    "plt.title('Remaining (False prediction and No-Attempts)')\n",
    "plt.pie(non_sizes, labels=labels, autopct='%1.1f%%', startangle=140)\n",
    "plt.axis('equal')\n",
    "plt.show()"
   ]
  },
  {
   "cell_type": "markdown",
   "metadata": {},
   "source": [
    "# Model Comparison"
   ]
  },
  {
   "cell_type": "code",
   "execution_count": 10,
   "metadata": {},
   "outputs": [],
   "source": [
    "model_data_df = pd.read_csv(\"data/model_data.csv\")\n",
    "models = model_data_df['Model'].unique()\n",
    "feat_combo = model_data_df['Feats'].unique()"
   ]
  },
  {
   "cell_type": "code",
   "execution_count": 11,
   "metadata": {},
   "outputs": [
    {
     "name": "stdout",
     "output_type": "stream",
     "text": [
      "============================== Held-out test accuracies ==============================\n",
      "----- X_stats, X_name, X_sample1, X_sample2 -----\n",
      "\t[rbf_svm : {'C': '10', 'gamma': '0.01'}]\n",
      "\t\t> Train: 94.73%\n",
      "\t\t> Validation: 78.94%\n",
      "\t\t> Test: 83.85%\n",
      "\t[random_forest : {'n_estimator': '50', 'max_depth': '50'}]\n",
      "\t\t> Train: 93.81%\n",
      "\t\t> Validation: 80.78%\n",
      "\t\t> Test: 80.73%\n",
      "\t[logistic_regression : {'C': '1'}]\n",
      "\t\t> Train: 94.39%\n",
      "\t\t> Validation: 80.56%\n",
      "\t\t> Test: 81.28%\n",
      "----- X_stats -----\n",
      "\t[rbf_svm : {'C': '1000', 'gamma': '1'}]\n",
      "\t\t> Train: 74.19%\n",
      "\t\t> Validation: 65.97%\n",
      "\t\t> Test: 73.21%\n",
      "\t[random_forest : {'n_estimator': '25', 'max_depth': '10'}]\n",
      "\t\t> Train: 84.9%\n",
      "\t\t> Validation: 73.86%\n",
      "\t\t> Test: 77.61%\n",
      "\t[logistic_regression : {'C': '10000'}]\n",
      "\t\t> Train: 67.71%\n",
      "\t\t> Validation: 67.13%\n",
      "\t\t> Test: 66.06%\n",
      "----- X_name -----\n",
      "\t[rbf_svm : {'C': '100', 'gamma': '0.01'}]\n",
      "\t\t> Train: 91.32%\n",
      "\t\t> Validation: 78.93%\n",
      "\t\t> Test: 79.08%\n",
      "\t[random_forest : {'n_estimator': '25', 'max_depth': '50'}]\n",
      "\t\t> Train: 91.96%\n",
      "\t\t> Validation: 79.38%\n",
      "\t\t> Test: 77.43%\n",
      "\t[logistic_regression : {'C': '1'}]\n",
      "\t\t> Train: 92.01%\n",
      "\t\t> Validation: 79.39%\n",
      "\t\t> Test: 79.08%\n",
      "----- X_stats, X_name -----\n",
      "\t[rbf_svm : {'C': '10', 'gamma': '0.01'}]\n",
      "\t\t> Train: 91.55%\n",
      "\t\t> Validation: 79.4%\n",
      "\t\t> Test: 80.55%\n",
      "\t[random_forest : {'n_estimator': '25', 'max_depth': '25'}]\n",
      "\t\t> Train: 94.79%\n",
      "\t\t> Validation: 82.17%\n",
      "\t\t> Test: 82.75%\n",
      "\t[logistic_regression : {'C': '1'}]\n",
      "\t\t> Train: 93.11%\n",
      "\t\t> Validation: 78.92%\n",
      "\t\t> Test: 80%\n",
      "----- X_sample1 -----\n",
      "\t[rbf_svm : {'C': '10', 'gamma': '0.01'}]\n",
      "\t\t> Train: 85.71%\n",
      "\t\t> Validation: 73.15%\n",
      "\t\t> Test: 80.73%\n",
      "\t[random_forest : {'n_estimator': '5', 'max_depth': '50'}]\n",
      "\t\t> Train: 83.74%\n",
      "\t\t> Validation: 72.91%\n",
      "\t\t> Test: 78.17%\n",
      "\t[logistic_regression : {'C': '10'}]\n",
      "\t\t> Train: 87.79%\n",
      "\t\t> Validation: 74.31%\n",
      "\t\t> Test: 81.28%\n",
      "----- X_name, X_sample1 -----\n",
      "\t[rbf_svm : {'C': '10', 'gamma': '0.01'}]\n",
      "\t\t> Train: 93.46%\n",
      "\t\t> Validation: 80.56%\n",
      "\t\t> Test: 83.3%\n",
      "\t[random_forest : {'n_estimator': '100', 'max_depth': '50'}]\n",
      "\t\t> Train: 92.07%\n",
      "\t\t> Validation: 78.94%\n",
      "\t\t> Test: 80.18%\n",
      "\t[logistic_regression : {'C': '1'}]\n",
      "\t\t> Train: 93.81%\n",
      "\t\t> Validation: 81.03%\n",
      "\t\t> Test: 83.12%\n",
      "----- X_stats, X_sample1 -----\n",
      "\t[rbf_svm : {'C': '1000', 'gamma': '0.01'}]\n",
      "\t\t> Train: 88.43%\n",
      "\t\t> Validation: 75.22%\n",
      "\t\t> Test: 80%\n",
      "\t[random_forest : {'n_estimator': '50', 'max_depth': '100'}]\n",
      "\t\t> Train: 93.11%\n",
      "\t\t> Validation: 78.71%\n",
      "\t\t> Test: 77.8%\n",
      "\t[logistic_regression : {'C': '100000'}]\n",
      "\t\t> Train: 88.6%\n",
      "\t\t> Validation: 74.06%\n",
      "\t\t> Test: 73.76%\n",
      "----- X_stats, X_name, X_sample1 -----\n",
      "\t[rbf_svm : {'C': '10', 'gamma': '0.01'}]\n",
      "\t\t> Train: 3.743%\n",
      "\t\t> Validation: 3.241%\n",
      "\t\t> Test: 3.347%\n",
      "\t[random_forest : {'n_estimator': '50', 'max_depth': '50'}]\n",
      "\t\t> Train: 94.79%\n",
      "\t\t> Validation: 81.03%\n",
      "\t\t> Test: 80.73%\n",
      "\t[logistic_regression : {'C': '1'}]\n",
      "\t\t> Train: 94.15%\n",
      "\t\t> Validation: 80.33%\n",
      "\t\t> Test: 82.2%\n"
     ]
    }
   ],
   "source": [
    "print(\"=\"*30,'Held-out test accuracies', \"=\"*30)\n",
    "\n",
    "for feats in feat_combo:\n",
    "    temp = model_data_df.loc[model_data_df.Feats == feats]\n",
    "    print(f\"{'-'*5} {feats} {'-'*5}\")\n",
    "    for model in models:\n",
    "        print(f\"\\t[{model} : {temp.loc[temp.Model == model].iloc[0]['Params']}]\")\n",
    "        print(f\"\\t\\t> Train: {'{0:.4g}'.format(temp.loc[temp.Model == model].iloc[0]['Train']*100)}%\")\n",
    "        print(f\"\\t\\t> Validation: {'{0:.4g}'.format(temp.loc[temp.Model == model].iloc[0]['Validation']*100)}%\")\n",
    "        print(f\"\\t\\t> Test: {'{0:.4g}'.format(temp.loc[temp.Model == model].iloc[0]['Test']*100)}%\")"
   ]
  },
  {
   "cell_type": "markdown",
   "metadata": {},
   "source": [
    "![alt text](charts/model_comparison_chart.png \"Comparison chart\")\n",
    "\n",
    "## Best parameter set:\n",
    "- **Random Forest** *[X\\_stats, X\\_sample1]*: {'n_estimator': '50', 'max_depth': '100'}\n",
    "- **Logistic Regression** *[X\\_name, X\\_sample1]*: {'C': '1'}\n",
    "- **SVM** *[X\\_stats, X\\_name, X\\_sample1, X\\_sample2]*: {'C': '10', 'gamma': '0.01'}\n",
    "\n"
   ]
  },
  {
   "cell_type": "markdown",
   "metadata": {},
   "source": [
    "## Comparing against Pandas api.types.infer_dtype()\n",
    "### Data preprocessing"
   ]
  },
  {
   "cell_type": "code",
   "execution_count": 18,
   "metadata": {},
   "outputs": [
    {
     "name": "stdout",
     "output_type": "stream",
     "text": [
      "> Data mean: scaled_perc_nans             -2.745801e-16\n",
      "scaled_mean_token_count      -1.117919e-16\n",
      "scaled_std_dev_token_count   -2.236863e-17\n",
      "has_delimiters                3.105360e-01\n",
      "dtype: float64\n",
      "\n",
      "> Data median: scaled_perc_nans             -0.653046\n",
      "scaled_mean_token_count      -0.144106\n",
      "scaled_std_dev_token_count   -0.171320\n",
      "has_delimiters                0.000000\n",
      "dtype: float64\n",
      "\n",
      "> Data stdev: scaled_perc_nans              1.000925\n",
      "scaled_mean_token_count       1.000925\n",
      "scaled_std_dev_token_count    1.000925\n",
      "has_delimiters                0.463141\n",
      "dtype: float64\n",
      "\n",
      "===[VECTORIZATION]===\n",
      "> Length of vectorized feature_names: 8528\n",
      "X_train preview:\n",
      "     scaled_perc_nans  scaled_mean_token_count  scaled_std_dev_token_count  \\\n",
      "453         -0.653097                 0.686283                    3.364514   \n",
      "43          -0.653120                 0.162079                   -0.054513   \n",
      "133          1.978459                -0.148544                   -0.167108   \n",
      "205         -0.653120                -0.141062                   -0.175870   \n",
      "282         -0.653120                -0.148960                   -0.175870   \n",
      "\n",
      "     has_delimiters  0  1  2  3  4  5  ...   8518  8519  8520  8521  8522  \\\n",
      "453            True  0  0  0  0  0  0  ...      0     0     0     0     0   \n",
      "43             True  0  0  0  0  0  0  ...      0     0     0     0     0   \n",
      "133            True  0  0  0  0  0  0  ...      0     0     0     0     0   \n",
      "205           False  0  0  0  0  0  0  ...      0     0     0     0     0   \n",
      "282           False  0  0  0  0  0  0  ...      0     0     0     0     0   \n",
      "\n",
      "     8523  8524  8525  8526  8527  \n",
      "453     0     0     0     0     0  \n",
      "43      0     0     0     0     0  \n",
      "133     0     0     0     0     0  \n",
      "205     0     0     0     0     0  \n",
      "282     0     0     0     0     0  \n",
      "\n",
      "[5 rows x 18519 columns]\n",
      "y_train preview:\n",
      "     y_act\n",
      "453    1.0\n",
      "43     1.0\n",
      "133    2.0\n",
      "205    0.0\n",
      "282    0.0\n"
     ]
    }
   ],
   "source": [
    "data = pd.read_csv('data/needs_extraction_data/labelled_data.csv')\n",
    "\n",
    "data['y_act'] = [dict_label[i] for i in data['y_act']]\n",
    "y = data.loc[:,['y_act']]\n",
    "\n",
    "data1 = data[['%_nans', 'mean_word_count', 'std_dev_word_count', 'has_delimiters']]\n",
    "data1 = data1.fillna(0)\n",
    "\n",
    "data1 = data1.rename(columns={'mean_word_count': 'scaled_mean_token_count', 'std_dev_word_count': 'scaled_std_dev_token_count', '%_nans': 'scaled_perc_nans'})\n",
    "data1.loc[data1['scaled_mean_token_count'] > 10000, 'scaled_mean_token_count'] = 10000\n",
    "data1.loc[data1['scaled_mean_token_count'] < -10000, 'scaled_mean_token_count'] = -10000\n",
    "data1.loc[data1['scaled_std_dev_token_count'] > 10000, 'scaled_std_dev_token_count'] = 10000\n",
    "data1.loc[data1['scaled_std_dev_token_count'] < -10000, 'scaled_std_dev_token_count'] = -10000\n",
    "data1.loc[data1['scaled_perc_nans'] > 10000, 'scaled_perc_nans'] = 10000\n",
    "data1.loc[data1['scaled_perc_nans'] < -10000, 'scaled_perc_nans'] = -10000\n",
    "column_names_to_normalize = ['scaled_mean_token_count', 'scaled_std_dev_token_count','scaled_perc_nans']\n",
    "x = data1[column_names_to_normalize].values\n",
    "x = np.nan_to_num(x)\n",
    "x_scaled = StandardScaler().fit_transform(x)\n",
    "df_temp = pd.DataFrame(x_scaled, columns=column_names_to_normalize, index = data1.index)\n",
    "data1[column_names_to_normalize] = df_temp\n",
    "\n",
    "y.y_act = y.y_act.astype(float)\n",
    "\n",
    "print(f\"> Data mean: {data1.mean()}\\n\")\n",
    "print(f\"> Data median: {data1.median()}\\n\")\n",
    "print(f\"> Data stdev: {data1.std()}\\n\")\n",
    "\n",
    "print(\"===[VECTORIZATION]===\")\n",
    "arr = data['Attribute_name'].values\n",
    "data = data.fillna(0)\n",
    "arr1 = data['sample_1'].values\n",
    "arr1 = [str(x) for x in arr1]\n",
    "arr2 = data['sample_2'].values\n",
    "arr2 = [str(x) for x in arr2]\n",
    "\n",
    "vectorizer = CountVectorizer(ngram_range=(3, 3), analyzer='char')\n",
    "X = vectorizer.fit_transform(arr)\n",
    "X1 = vectorizer.fit_transform(arr1)\n",
    "X2 = vectorizer.fit_transform(arr2)\n",
    "\n",
    "print(f\"> Length of vectorized feature_names: {len(vectorizer.get_feature_names())}\")\n",
    "\n",
    "# data1.to_csv('data/preprocessing/before.csv')\n",
    "attr_df = pd.DataFrame(X.toarray())\n",
    "sample1_df = pd.DataFrame(X1.toarray())\n",
    "sample2_df = pd.DataFrame(X2.toarray())\n",
    "\n",
    "data2 = pd.concat([data1, attr_df, sample1_df, sample2_df], axis=1, sort=False)\n",
    "# data2.to_csv('data/preprocessing/after.csv')\n",
    "data2.head()\n",
    "\n",
    "X_train, X_test_held, y_train, y_test_held = train_test_split(\n",
    "    data2, y, test_size=0.2, random_state=100)\n",
    "\n",
    "X_train_new = X_train.reset_index(drop=True)\n",
    "y_train_new = y_train.reset_index(drop=True)\n",
    "print(f\"X_train preview:\\n{X_train.head()}\")\n",
    "print(f\"y_train preview:\\n{y_train.head()}\")\n",
    "\n",
    "X_train_new = X_train_new.values\n",
    "y_train_new = y_train_new.values"
   ]
  },
  {
   "cell_type": "code",
   "execution_count": 17,
   "metadata": {},
   "outputs": [],
   "source": [
    "X_train_train, X_val, y_train_train, y_val = train_test_split(\n",
    "    X_train_new, y_train_new, test_size=0.25, random_state=100)"
   ]
  },
  {
   "cell_type": "code",
   "execution_count": 19,
   "metadata": {},
   "outputs": [
    {
     "name": "stderr",
     "output_type": "stream",
     "text": [
      "/Users/admin/anaconda3/lib/python3.6/site-packages/ipykernel_launcher.py:5: DataConversionWarning: A column-vector y was passed when a 1d array was expected. Please change the shape of y to (n_samples,), for example using ravel().\n",
      "  \"\"\"\n",
      "/Users/admin/anaconda3/lib/python3.6/site-packages/sklearn/utils/validation.py:578: DataConversionWarning: A column-vector y was passed when a 1d array was expected. Please change the shape of y to (n_samples, ), for example using ravel().\n",
      "  y = column_or_1d(y, warn=True)\n"
     ]
    },
    {
     "name": "stdout",
     "output_type": "stream",
     "text": [
      "==================== [Random Forest] ====================\n",
      "> Train: 0.9328703703703703\n",
      "> Validate: 0.7592592592592593\n",
      "> Test: 0.8073394495412844\n",
      "\n",
      "==================== [Logistic Regression] ====================\n",
      "> Train: 0.9351851851851852\n",
      "> Validate: 0.7592592592592593\n",
      "> Test: 0.8807339449541285\n",
      "\n",
      "==================== [SVM] ====================\n",
      "> Train: 0.8842592592592593\n",
      "> Validate: 0.5370370370370371\n",
      "> Test: 0.5963302752293578\n"
     ]
    }
   ],
   "source": [
    "rf_clf = RandomForestClassifier(n_estimators=50, max_depth=50, random_state=100)\n",
    "lr_clf = LogisticRegression(C=1, random_state=100)\n",
    "svm_clf = svm.SVC(C=10, gamma=0.1, random_state=100)\n",
    "\n",
    "rf_clf.fit(X_train_train, y_train_train)\n",
    "lr_clf.fit(X_train_train, y_train_train)\n",
    "svm_clf.fit(X_train_train, y_train_train)\n",
    "\n",
    "print(\"=\"*20,\"[Random Forest]\",\"=\"*20)\n",
    "trainsc = rf_clf.score(X_train, y_train)\n",
    "valsc = rf_clf.score(X_val, y_val)\n",
    "heldsc = rf_clf.score(X_test_held, y_test_held)\n",
    "print(f\"> Train: {trainsc}\")\n",
    "print(f\"> Validate: {valsc}\")\n",
    "print(f\"> Test: {heldsc}\")\n",
    "print()\n",
    "print(\"=\"*20,\"[Logistic Regression]\",\"=\"*20)\n",
    "trainsc = lr_clf.score(X_train, y_train)\n",
    "valsc = lr_clf.score(X_val, y_val)\n",
    "heldsc = lr_clf.score(X_test_held, y_test_held)\n",
    "print(f\"> Train: {trainsc}\")\n",
    "print(f\"> Validate: {valsc}\")\n",
    "print(f\"> Test: {heldsc}\")\n",
    "print()\n",
    "print(\"=\"*20,\"[SVM]\",\"=\"*20)\n",
    "trainsc = svm_clf.score(X_train, y_train_train)\n",
    "valsc = svm_clf.score(X_val, y_val)\n",
    "heldsc = svm_clf.score(X_test_held, y_test_held)\n",
    "print(f\"> Train: {trainsc}\")\n",
    "print(f\"> Validate: {valsc}\")\n",
    "print(f\"> Test: {heldsc}\")"
   ]
  },
  {
   "cell_type": "code",
   "execution_count": null,
   "metadata": {},
   "outputs": [],
   "source": []
  }
 ],
 "metadata": {
  "hide_input": false,
  "kernelspec": {
   "display_name": "Python 3",
   "language": "python",
   "name": "python3"
  },
  "language_info": {
   "codemirror_mode": {
    "name": "ipython",
    "version": 3
   },
   "file_extension": ".py",
   "mimetype": "text/x-python",
   "name": "python",
   "nbconvert_exporter": "python",
   "pygments_lexer": "ipython3",
   "version": "3.6.8"
  },
  "toc": {
   "base_numbering": 1,
   "nav_menu": {},
   "number_sections": true,
   "sideBar": true,
   "skip_h1_title": false,
   "title_cell": "Table of Contents",
   "title_sidebar": "Contents",
   "toc_cell": true,
   "toc_position": {
    "height": "calc(100% - 180px)",
    "left": "10px",
    "top": "150px",
    "width": "197px"
   },
   "toc_section_display": true,
   "toc_window_display": false
  },
  "varInspector": {
   "cols": {
    "lenName": 16,
    "lenType": 16,
    "lenVar": 40
   },
   "kernels_config": {
    "python": {
     "delete_cmd_postfix": "",
     "delete_cmd_prefix": "del ",
     "library": "var_list.py",
     "varRefreshCmd": "print(var_dic_list())"
    },
    "r": {
     "delete_cmd_postfix": ") ",
     "delete_cmd_prefix": "rm(",
     "library": "var_list.r",
     "varRefreshCmd": "cat(var_dic_list()) "
    }
   },
   "types_to_exclude": [
    "module",
    "function",
    "builtin_function_or_method",
    "instance",
    "_Feature"
   ],
   "window_display": false
  }
 },
 "nbformat": 4,
 "nbformat_minor": 2
}
