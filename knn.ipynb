{
 "cells": [
  {
   "cell_type": "code",
   "execution_count": 1,
   "metadata": {},
   "outputs": [],
   "source": [
    "from leven import levenshtein  \n",
    "from sklearn.neighbors import DistanceMetric\n",
    "from sklearn.metrics import accuracy_score\n",
    "from statistics import mode\n",
    "from sklearn.model_selection import train_test_split\n",
    "from sklearn.preprocessing import StandardScaler\n",
    "from sklearn.feature_extraction.text import CountVectorizer\n",
    "from scipy import stats\n",
    "import pandas as pd\n",
    "import numpy as np \n",
    "import time\n",
    "import editdistance"
   ]
  },
  {
   "cell_type": "markdown",
   "metadata": {},
   "source": [
    "# Preprocessing"
   ]
  },
  {
   "cell_type": "code",
   "execution_count": 2,
   "metadata": {},
   "outputs": [],
   "source": [
    "#read csv\n",
    "dict_label = {\n",
    "    'Datetime':0, \n",
    "    'Sentence':1, \n",
    "    'Custom Object': 2, \n",
    "    'URL': 3, \n",
    "    'Numbers': 4, \n",
    "    'List': 5}\n",
    "data = pd.read_csv('data/needs_extraction_data/labelled_added.csv')\n",
    "\n",
    "data['y_act'] = [dict_label[i] for i in data['y_act']]\n",
    "y = data.loc[:,['y_act']]\n",
    "key_name = data['Attribute_name']"
   ]
  },
  {
   "cell_type": "code",
   "execution_count": 3,
   "metadata": {},
   "outputs": [
    {
     "name": "stdout",
     "output_type": "stream",
     "text": [
      "> Data mean: scaled_perc_nans                -2.745801e-16\n",
      "scaled_mean_token_count         -1.117919e-16\n",
      "scaled_std_dev_token_count      -2.236863e-17\n",
      "has_delimiters                   3.105360e-01\n",
      "scaled_mean_stopword_total       8.619107e-18\n",
      "scaled_mean_whitespace_count    -1.126127e-16\n",
      "scaled_mean_char_count           5.130421e-17\n",
      "scaled_mean_delim_count         -5.915375e-17\n",
      "scaled_stdev_stopword_total      6.413026e-17\n",
      "scaled_stdev_whitespace_count   -2.236863e-17\n",
      "scaled_stdev_char_count         -3.488686e-18\n",
      "scaled_stdev_delim_count         9.516930e-17\n",
      "has_url                          8.687616e-02\n",
      "has_date                         7.560074e-01\n",
      "dtype: float64\n",
      "\n",
      "> Data median: scaled_perc_nans                -0.653046\n",
      "scaled_mean_token_count         -0.144106\n",
      "scaled_std_dev_token_count      -0.171320\n",
      "has_delimiters                   0.000000\n",
      "scaled_mean_stopword_total      -0.178121\n",
      "scaled_mean_whitespace_count    -0.144106\n",
      "scaled_mean_char_count          -0.166657\n",
      "scaled_mean_delim_count         -0.169718\n",
      "scaled_stdev_stopword_total     -0.204091\n",
      "scaled_stdev_whitespace_count   -0.171320\n",
      "scaled_stdev_char_count         -0.188179\n",
      "scaled_stdev_delim_count        -0.220007\n",
      "has_url                          0.000000\n",
      "has_date                         1.000000\n",
      "dtype: float64\n",
      "\n",
      "> Data stdev: scaled_perc_nans                 1.000925\n",
      "scaled_mean_token_count          1.000925\n",
      "scaled_std_dev_token_count       1.000925\n",
      "has_delimiters                   0.463141\n",
      "scaled_mean_stopword_total       1.000925\n",
      "scaled_mean_whitespace_count     1.000925\n",
      "scaled_mean_char_count           1.000925\n",
      "scaled_mean_delim_count          1.000925\n",
      "scaled_stdev_stopword_total      1.000925\n",
      "scaled_stdev_whitespace_count    1.000925\n",
      "scaled_stdev_char_count          1.000925\n",
      "scaled_stdev_delim_count         1.000925\n",
      "has_url                          0.281914\n",
      "has_date                         0.429886\n",
      "dtype: float64\n"
     ]
    }
   ],
   "source": [
    "data1 = data[['%_nans', 'mean_word_count',\n",
    "              'std_dev_word_count', 'has_delimiters', 'mean_stopword_total',\n",
    "              'mean_whitespace_count', 'mean_char_count', 'mean_delim_count',\n",
    "              'stdev_stopword_total', 'stdev_whitespace_count', 'stdev_char_count',\n",
    "              'stdev_delim_count', 'has_url', 'has_date']]\n",
    "data1 = data1.fillna(0)\n",
    "\n",
    "data1 = data1.rename(columns={\n",
    "    'mean_word_count': 'scaled_mean_token_count',\n",
    "    'std_dev_word_count': 'scaled_std_dev_token_count',\n",
    "    '%_nans': 'scaled_perc_nans',\n",
    "    'mean_stopword_total': 'scaled_mean_stopword_total',\n",
    "    'mean_whitespace_count': 'scaled_mean_whitespace_count',\n",
    "    'mean_char_count': 'scaled_mean_char_count',\n",
    "    'mean_delim_count': 'scaled_mean_delim_count',\n",
    "    'stdev_stopword_total': 'scaled_stdev_stopword_total',\n",
    "    'stdev_whitespace_count': 'scaled_stdev_whitespace_count',\n",
    "    'stdev_char_count': 'scaled_stdev_char_count',\n",
    "    'stdev_delim_count': 'scaled_stdev_delim_count'\n",
    "})\n",
    "data1.loc[data1['scaled_mean_token_count'] >\n",
    "          10000, 'scaled_mean_token_count'] = 10000\n",
    "data1.loc[data1['scaled_mean_token_count'] < -\n",
    "          10000, 'scaled_mean_token_count'] = -10000\n",
    "\n",
    "data1.loc[data1['scaled_std_dev_token_count'] >\n",
    "          10000, 'scaled_std_dev_token_count'] = 10000\n",
    "data1.loc[data1['scaled_std_dev_token_count'] < -\n",
    "          10000, 'scaled_std_dev_token_count'] = -10000\n",
    "\n",
    "data1.loc[data1['scaled_perc_nans'] > 10000, 'scaled_perc_nans'] = 10000\n",
    "data1.loc[data1['scaled_perc_nans'] < -10000, 'scaled_perc_nans'] = -10000\n",
    "\n",
    "data1.loc[data1['scaled_mean_stopword_total'] >\n",
    "          10000, 'scaled_mean_stopword_total'] = 10000\n",
    "data1.loc[data1['scaled_mean_stopword_total'] < -\n",
    "          10000, 'scaled_mean_stopword_total'] = -10000\n",
    "\n",
    "data1.loc[data1['scaled_mean_whitespace_count'] >\n",
    "          10000, 'scaled_mean_whitespace_count'] = 10000\n",
    "data1.loc[data1['scaled_mean_whitespace_count'] < -\n",
    "          10000, 'scaled_mean_whitespace_count'] = -10000\n",
    "\n",
    "data1.loc[data1['scaled_mean_char_count'] >\n",
    "          10000, 'scaled_mean_char_count'] = 10000\n",
    "data1.loc[data1['scaled_mean_char_count'] < -\n",
    "          10000, 'scaled_mean_char_count'] = -10000\n",
    "\n",
    "data1.loc[data1['scaled_mean_delim_count'] >\n",
    "          10000, 'scaled_mean_delim_count'] = 10000\n",
    "data1.loc[data1['scaled_mean_delim_count'] < -\n",
    "          10000, 'scaled_mean_delim_count'] = -10000\n",
    "\n",
    "data1.loc[data1['scaled_stdev_stopword_total'] >\n",
    "          10000, 'scaled_stdev_stopword_total'] = 10000\n",
    "data1.loc[data1['scaled_stdev_stopword_total'] < -\n",
    "          10000, 'scaled_stdev_stopword_total'] = -10000\n",
    "\n",
    "data1.loc[data1['scaled_stdev_whitespace_count'] >\n",
    "          10000, 'scaled_stdev_whitespace_count'] = 10000\n",
    "data1.loc[data1['scaled_stdev_whitespace_count'] < -\n",
    "          10000, 'scaled_stdev_whitespace_count'] = -10000\n",
    "\n",
    "data1.loc[data1['scaled_stdev_char_count'] >\n",
    "          10000, 'scaled_stdev_char_count'] = 10000\n",
    "data1.loc[data1['scaled_stdev_char_count'] < -\n",
    "          10000, 'scaled_stdev_char_count'] = -10000\n",
    "\n",
    "data1.loc[data1['scaled_stdev_delim_count'] >\n",
    "          10000, 'scaled_stdev_delim_count'] = 10000\n",
    "data1.loc[data1['scaled_stdev_delim_count'] < -\n",
    "          10000, 'scaled_stdev_delim_count'] = -10000\n",
    "\n",
    "column_names_to_normalize = ['scaled_mean_token_count',\n",
    "                             'scaled_std_dev_token_count',\n",
    "                             'scaled_perc_nans',\n",
    "                             'scaled_mean_stopword_total',\n",
    "                             'scaled_mean_whitespace_count',\n",
    "                             'scaled_mean_char_count',\n",
    "                             'scaled_mean_delim_count',\n",
    "                             'scaled_stdev_stopword_total',\n",
    "                             'scaled_stdev_whitespace_count',\n",
    "                             'scaled_stdev_char_count',\n",
    "                             'scaled_stdev_delim_count']\n",
    "x = data1[column_names_to_normalize].values\n",
    "x = np.nan_to_num(x)\n",
    "x_scaled = StandardScaler().fit_transform(x)\n",
    "df_temp = pd.DataFrame(\n",
    "    x_scaled, columns=column_names_to_normalize, index=data1.index)\n",
    "data1[column_names_to_normalize] = df_temp\n",
    "\n",
    "y.y_act = y.y_act.astype(float)\n",
    "\n",
    "print(f\"> Data mean: {data1.mean()}\\n\")\n",
    "print(f\"> Data median: {data1.median()}\\n\")\n",
    "print(f\"> Data stdev: {data1.std()}\")"
   ]
  },
  {
   "cell_type": "code",
   "execution_count": 4,
   "metadata": {},
   "outputs": [
    {
     "name": "stdout",
     "output_type": "stream",
     "text": [
      "X_train preview:      scaled_perc_nans  scaled_mean_token_count  scaled_std_dev_token_count  \\\n",
      "453         -0.653097                 0.686283                    3.364514   \n",
      "43          -0.653120                 0.162079                   -0.054513   \n",
      "133          1.978459                -0.148544                   -0.167108   \n",
      "205         -0.653120                -0.141062                   -0.175870   \n",
      "282         -0.653120                -0.148960                   -0.175870   \n",
      "\n",
      "     has_delimiters  scaled_mean_stopword_total  scaled_mean_whitespace_count  \\\n",
      "453            True                    0.945220                      0.686283   \n",
      "43             True                    0.126161                      0.162079   \n",
      "133            True                   -0.187400                     -0.148544   \n",
      "205           False                   -0.178121                     -0.141062   \n",
      "282           False                   -0.187845                     -0.148960   \n",
      "\n",
      "     scaled_mean_char_count  scaled_mean_delim_count  \\\n",
      "453                1.142812                 1.401002   \n",
      "43                 0.161438                 0.026371   \n",
      "133               -0.183377                -0.191491   \n",
      "205               -0.160778                -0.062569   \n",
      "282               -0.176629                -0.127171   \n",
      "\n",
      "     scaled_stdev_stopword_total  scaled_stdev_whitespace_count  \\\n",
      "453                     3.066931                       3.364514   \n",
      "43                     -0.088312                      -0.054513   \n",
      "133                    -0.202753                      -0.167108   \n",
      "205                    -0.210742                      -0.175870   \n",
      "282                    -0.210742                      -0.175870   \n",
      "\n",
      "     scaled_stdev_char_count  scaled_stdev_delim_count  has_url  has_date  \n",
      "453                 3.281470                  6.891075     True      True  \n",
      "43                 -0.070028                 -0.106206    False     False  \n",
      "133                -0.186940                 -0.224749    False      True  \n",
      "205                -0.195339                 -0.232271    False      True  \n",
      "282                -0.195339                 -0.232271    False      True  \n",
      "y_train preview:      y_act\n",
      "453    1.0\n",
      "43     1.0\n",
      "133    2.0\n",
      "205    0.0\n",
      "282    0.0\n"
     ]
    }
   ],
   "source": [
    "X_train, X_test, y_train, y_test = train_test_split(\n",
    "    data1, y, test_size=0.2, random_state=100)\n",
    "atr_train,atr_test = train_test_split(key_name, test_size=0.2,random_state=100)\n",
    "\n",
    "# X_train_train, X_test_train,y_train_train,y_test_train = train_test_split(X_train,y_train, test_size=0.25)\n",
    "# print(X_train.head())\n",
    "# print(y_train.head())\n",
    "\n",
    "X_train_new = X_train.reset_index(drop=True)\n",
    "y_train_new = y_train.reset_index(drop=True)\n",
    "print(f\"X_train preview: {X_train.head()}\")\n",
    "print(f\"y_train preview: {y_train.head()}\")\n",
    "\n",
    "X_train_new = X_train_new.values\n",
    "y_train_new = y_train_new.values\n",
    "\n",
    "X_train.reset_index(inplace=True,drop=True)\n",
    "y_train.reset_index(inplace=True,drop=True)\n",
    "X_test.reset_index(inplace=True,drop=True)\n",
    "y_test.reset_index(inplace=True,drop=True)\n",
    "atr_train.reset_index(inplace=True,drop=True)\n",
    "atr_test.reset_index(inplace=True,drop=True)"
   ]
  },
  {
   "cell_type": "code",
   "execution_count": 5,
   "metadata": {},
   "outputs": [
    {
     "name": "stdout",
     "output_type": "stream",
     "text": [
      "> i: 0\n"
     ]
    },
    {
     "name": "stderr",
     "output_type": "stream",
     "text": [
      "/Users/admin/anaconda3/lib/python3.6/site-packages/ipykernel_launcher.py:11: FutureWarning: Method .as_matrix will be removed in a future version. Use .values instead.\n",
      "  # This is added back by InteractiveShellApp.init_path()\n",
      "/Users/admin/anaconda3/lib/python3.6/site-packages/ipykernel_launcher.py:12: FutureWarning: Method .as_matrix will be removed in a future version. Use .values instead.\n",
      "  if sys.path[0] == '':\n"
     ]
    },
    {
     "name": "stdout",
     "output_type": "stream",
     "text": [
      "> i: 100\n"
     ]
    }
   ],
   "source": [
    "st = time.time()\n",
    "\n",
    "Matrix = [[0 for x in range(len(X_train))] for y in range(len(X_test))]\n",
    "dist_euc = DistanceMetric.get_metric('euclidean')\n",
    "\n",
    "# for i in range(len(X_test)):\n",
    "#     for j in range(len(X_train)):\n",
    "#         dist = numpy.linalg.norm(a-b)\n",
    "#         Matrix[i][j] = dist_euc.pairwise([data1.loc[i],data1.loc[j]])[0][1]\n",
    "\n",
    "np_X_train = X_train.as_matrix()\n",
    "np_X_test = X_test.as_matrix()\n",
    "\n",
    "for i in range(len(X_test)):\n",
    "    if i % 100 == 0:\n",
    "        print(f\"> i: {i}\")\n",
    "    a = np_X_test[i]\n",
    "    for j in range(len(X_train)):\n",
    "        b = np_X_train[j]\n",
    "        dist = np.linalg.norm(a-b)\n",
    "        Matrix[i][j] = dist\n",
    "\n",
    "# print(f\"> {np_X_train[0]}\")print(f\"> Time elapsed: {time.time()-st} seconds\")"
   ]
  },
  {
   "cell_type": "markdown",
   "metadata": {},
   "source": [
    "# 1-nearest neighbor on just Euclidean distance"
   ]
  },
  {
   "cell_type": "code",
   "execution_count": 6,
   "metadata": {},
   "outputs": [
    {
     "name": "stdout",
     "output_type": "stream",
     "text": [
      "Accuracy: 0.8807339449541285\n"
     ]
    }
   ],
   "source": [
    "y_pred = []\n",
    "for i in range(len(X_test)):\n",
    "    dist = np.argsort(Matrix[i])[:1]\n",
    "    pred = y_train.iloc[dist[0]]\n",
    "    y_pred.append(pred)\n",
    "print(f\"Accuracy: {accuracy_score(y_test, y_pred)}\")"
   ]
  },
  {
   "cell_type": "code",
   "execution_count": 7,
   "metadata": {},
   "outputs": [
    {
     "name": "stdout",
     "output_type": "stream",
     "text": [
      "1 neighbors: 0.8807339449541285\n",
      "2 neighbors: 0.7981651376146789\n",
      "3 neighbors: 0.7614678899082569\n",
      "4 neighbors: 0.7798165137614679\n",
      "5 neighbors: 0.7981651376146789\n",
      "6 neighbors: 0.7798165137614679\n",
      "7 neighbors: 0.7798165137614679\n",
      "8 neighbors: 0.7889908256880734\n",
      "9 neighbors: 0.7431192660550459\n",
      "10 neighbors: 0.7431192660550459\n"
     ]
    }
   ],
   "source": [
    "for neighbr in range(1, 11):\n",
    "    y_pred = []\n",
    "    for i in range(len(X_test)):\n",
    "        #     print('---')\n",
    "        dist = np.argsort(Matrix[i])[:neighbr]\n",
    "        ys = []\n",
    "        for x in dist:\n",
    "            ys.append(y_train.iloc[x])\n",
    "    #     print(ys)\n",
    "        ho = stats.mode(ys)\n",
    "    #     print(ho)\n",
    "    #     print(ho[0][0])\n",
    "        pred = ho[0][0]\n",
    "        y_pred.append(pred)\n",
    "    # print(y_pred)\n",
    "    # print(y_test)\n",
    "    acc = accuracy_score(y_test, y_pred)\n",
    "    print(f\"{neighbr} neighbors: {acc}\")"
   ]
  },
  {
   "cell_type": "code",
   "execution_count": 8,
   "metadata": {},
   "outputs": [
    {
     "name": "stdout",
     "output_type": "stream",
     "text": [
      "> i: 0\n",
      "> i: 100\n",
      "> Time elapsed: 2.1541621685028076\n"
     ]
    }
   ],
   "source": [
    "st = time.time()\n",
    "\n",
    "Matrix_ed = [[0 for x in range(len(X_train))] for y in range(len(X_test))]\n",
    "dist_euc = DistanceMetric.get_metric('euclidean')\n",
    "\n",
    "np_X_train = atr_train.values\n",
    "np_X_test = atr_test.values\n",
    "\n",
    "for i in range(len(X_test)):\n",
    "    if i % 100 == 0:\n",
    "        print(f\"> i: {i}\")\n",
    "    a = atr_test.iloc[i]\n",
    "    for j in range(len(X_train)):\n",
    "        b = atr_train.iloc[j]\n",
    "        dist = editdistance.eval(a, b)\n",
    "        Matrix_ed[i][j] = dist\n",
    "\n",
    "# print(np_X_train[0])\n",
    "print(f\"> Time elapsed: {time.time()-st}\")"
   ]
  },
  {
   "cell_type": "markdown",
   "metadata": {},
   "source": [
    "# 1-nearest neighbor on just Attribute Name Levenstein distance"
   ]
  },
  {
   "cell_type": "code",
   "execution_count": 9,
   "metadata": {},
   "outputs": [
    {
     "name": "stdout",
     "output_type": "stream",
     "text": [
      "Accuracy: 0.7981651376146789\n"
     ]
    }
   ],
   "source": [
    "y_pred = []\n",
    "for i in range(len(X_test)):\n",
    "    dist = np.argsort(Matrix_ed[i])[:1]\n",
    "    pred = y_train.iloc[dist[0]]\n",
    "    y_pred.append(pred)\n",
    "print(f\"Accuracy: {accuracy_score(y_test, y_pred)}\")"
   ]
  },
  {
   "cell_type": "code",
   "execution_count": 10,
   "metadata": {},
   "outputs": [
    {
     "name": "stdout",
     "output_type": "stream",
     "text": [
      "1 neighbors: 0.7981651376146789\n",
      "2 neighbors: 0.7889908256880734\n",
      "3 neighbors: 0.7706422018348624\n",
      "4 neighbors: 0.7889908256880734\n",
      "5 neighbors: 0.7889908256880734\n",
      "6 neighbors: 0.7339449541284404\n",
      "7 neighbors: 0.7431192660550459\n",
      "8 neighbors: 0.7247706422018348\n",
      "9 neighbors: 0.7706422018348624\n",
      "10 neighbors: 0.7339449541284404\n"
     ]
    }
   ],
   "source": [
    "for neighbr in range(1, 11):\n",
    "    y_pred = []\n",
    "    for i in range(len(X_test)):\n",
    "        #     print('---')\n",
    "        dist = np.argsort(Matrix_ed[i])[:neighbr]\n",
    "        ys = []\n",
    "        for x in dist:\n",
    "            ys.append(y_train.iloc[x])\n",
    "    #     print(ys)\n",
    "        ho = stats.mode(ys)\n",
    "    #     print(ho)\n",
    "    #     print(ho[0][0])\n",
    "        pred = ho[0][0]\n",
    "        y_pred.append(pred)\n",
    "    # print(y_pred)\n",
    "    # print(y_test)\n",
    "    acc = accuracy_score(y_test, y_pred)\n",
    "    print(f\"{neighbr} neighbors: {acc}\")"
   ]
  },
  {
   "cell_type": "markdown",
   "metadata": {},
   "source": [
    "# Majority vote using both Euclidean and Levenstein distance"
   ]
  },
  {
   "cell_type": "code",
   "execution_count": 11,
   "metadata": {},
   "outputs": [
    {
     "name": "stdout",
     "output_type": "stream",
     "text": [
      "1 neighbors: 0.8532110091743119\n",
      "2 neighbors: 0.8623853211009175\n",
      "3 neighbors: 0.8715596330275229\n",
      "4 neighbors: 0.8623853211009175\n",
      "5 neighbors: 0.8623853211009175\n",
      "6 neighbors: 0.8256880733944955\n",
      "7 neighbors: 0.7798165137614679\n",
      "8 neighbors: 0.7706422018348624\n",
      "9 neighbors: 0.8073394495412844\n",
      "10 neighbors: 0.8073394495412844\n"
     ]
    }
   ],
   "source": [
    "for neighbr in range(1, 11):\n",
    "    y_pred = []\n",
    "    for i in range(len(X_test)):\n",
    "        #     print('---')\n",
    "        dist_leven = np.argsort(Matrix_ed[i])[:neighbr]\n",
    "        ys_leven = []\n",
    "        for x in dist_leven:\n",
    "            ys_leven.append(y_train.iloc[x])\n",
    "\n",
    "        dist_euc = np.argsort(Matrix[i])[:neighbr]\n",
    "        for x in dist_euc:\n",
    "            ys_leven.append(y_train.iloc[x])\n",
    "        ho_leven = stats.mode(ys_leven)\n",
    "        pred_leven = ho_leven[0][0]\n",
    "\n",
    "        y_pred.append(pred_leven)\n",
    "\n",
    "    acc = accuracy_score(y_test, y_pred)\n",
    "    print(f\"{neighbr} neighbors: {acc}\")"
   ]
  },
  {
   "cell_type": "markdown",
   "metadata": {},
   "source": [
    "# Majority vote using both Euclidean and Levenstein distance"
   ]
  },
  {
   "cell_type": "code",
   "execution_count": 12,
   "metadata": {},
   "outputs": [
    {
     "name": "stdout",
     "output_type": "stream",
     "text": [
      "1 neighbors: 0.7798165137614679\n"
     ]
    },
    {
     "ename": "ValueError",
     "evalue": "Classification metrics can't handle a mix of multiclass and unknown targets",
     "output_type": "error",
     "traceback": [
      "\u001b[0;31m----------------------------------------------------------------------\u001b[0m",
      "\u001b[0;31mValueError\u001b[0m                           Traceback (most recent call last)",
      "\u001b[0;32m<ipython-input-12-60fcf488560a>\u001b[0m in \u001b[0;36m<module>\u001b[0;34m()\u001b[0m\n\u001b[1;32m     33\u001b[0m         \u001b[0my_pred\u001b[0m\u001b[0;34m.\u001b[0m\u001b[0mappend\u001b[0m\u001b[0;34m(\u001b[0m\u001b[0mlabel2return\u001b[0m\u001b[0;34m)\u001b[0m\u001b[0;34m\u001b[0m\u001b[0;34m\u001b[0m\u001b[0m\n\u001b[1;32m     34\u001b[0m \u001b[0;34m\u001b[0m\u001b[0m\n\u001b[0;32m---> 35\u001b[0;31m     \u001b[0macc\u001b[0m \u001b[0;34m=\u001b[0m \u001b[0maccuracy_score\u001b[0m\u001b[0;34m(\u001b[0m\u001b[0my_test\u001b[0m\u001b[0;34m,\u001b[0m \u001b[0my_pred\u001b[0m\u001b[0;34m)\u001b[0m\u001b[0;34m\u001b[0m\u001b[0;34m\u001b[0m\u001b[0m\n\u001b[0m\u001b[1;32m     36\u001b[0m     \u001b[0mprint\u001b[0m\u001b[0;34m(\u001b[0m\u001b[0;34mf\"{neighbr} neighbors: {acc}\"\u001b[0m\u001b[0;34m)\u001b[0m\u001b[0;34m\u001b[0m\u001b[0;34m\u001b[0m\u001b[0m\n",
      "\u001b[0;32m~/anaconda3/lib/python3.6/site-packages/sklearn/metrics/classification.py\u001b[0m in \u001b[0;36maccuracy_score\u001b[0;34m(y_true, y_pred, normalize, sample_weight)\u001b[0m\n\u001b[1;32m    174\u001b[0m \u001b[0;34m\u001b[0m\u001b[0m\n\u001b[1;32m    175\u001b[0m     \u001b[0;31m# Compute accuracy for each possible representation\u001b[0m\u001b[0;34m\u001b[0m\u001b[0;34m\u001b[0m\u001b[0;34m\u001b[0m\u001b[0m\n\u001b[0;32m--> 176\u001b[0;31m     \u001b[0my_type\u001b[0m\u001b[0;34m,\u001b[0m \u001b[0my_true\u001b[0m\u001b[0;34m,\u001b[0m \u001b[0my_pred\u001b[0m \u001b[0;34m=\u001b[0m \u001b[0m_check_targets\u001b[0m\u001b[0;34m(\u001b[0m\u001b[0my_true\u001b[0m\u001b[0;34m,\u001b[0m \u001b[0my_pred\u001b[0m\u001b[0;34m)\u001b[0m\u001b[0;34m\u001b[0m\u001b[0;34m\u001b[0m\u001b[0m\n\u001b[0m\u001b[1;32m    177\u001b[0m     \u001b[0;32mif\u001b[0m \u001b[0my_type\u001b[0m\u001b[0;34m.\u001b[0m\u001b[0mstartswith\u001b[0m\u001b[0;34m(\u001b[0m\u001b[0;34m'multilabel'\u001b[0m\u001b[0;34m)\u001b[0m\u001b[0;34m:\u001b[0m\u001b[0;34m\u001b[0m\u001b[0;34m\u001b[0m\u001b[0m\n\u001b[1;32m    178\u001b[0m         \u001b[0mdiffering_labels\u001b[0m \u001b[0;34m=\u001b[0m \u001b[0mcount_nonzero\u001b[0m\u001b[0;34m(\u001b[0m\u001b[0my_true\u001b[0m \u001b[0;34m-\u001b[0m \u001b[0my_pred\u001b[0m\u001b[0;34m,\u001b[0m \u001b[0maxis\u001b[0m\u001b[0;34m=\u001b[0m\u001b[0;36m1\u001b[0m\u001b[0;34m)\u001b[0m\u001b[0;34m\u001b[0m\u001b[0;34m\u001b[0m\u001b[0m\n",
      "\u001b[0;32m~/anaconda3/lib/python3.6/site-packages/sklearn/metrics/classification.py\u001b[0m in \u001b[0;36m_check_targets\u001b[0;34m(y_true, y_pred)\u001b[0m\n\u001b[1;32m     79\u001b[0m     \u001b[0;32mif\u001b[0m \u001b[0mlen\u001b[0m\u001b[0;34m(\u001b[0m\u001b[0my_type\u001b[0m\u001b[0;34m)\u001b[0m \u001b[0;34m>\u001b[0m \u001b[0;36m1\u001b[0m\u001b[0;34m:\u001b[0m\u001b[0;34m\u001b[0m\u001b[0;34m\u001b[0m\u001b[0m\n\u001b[1;32m     80\u001b[0m         raise ValueError(\"Classification metrics can't handle a mix of {0} \"\n\u001b[0;32m---> 81\u001b[0;31m                          \"and {1} targets\".format(type_true, type_pred))\n\u001b[0m\u001b[1;32m     82\u001b[0m \u001b[0;34m\u001b[0m\u001b[0m\n\u001b[1;32m     83\u001b[0m     \u001b[0;31m# We can't have more than one value on y_type => The set is no more needed\u001b[0m\u001b[0;34m\u001b[0m\u001b[0;34m\u001b[0m\u001b[0;34m\u001b[0m\u001b[0m\n",
      "\u001b[0;31mValueError\u001b[0m: Classification metrics can't handle a mix of multiclass and unknown targets"
     ]
    }
   ],
   "source": [
    "for neighbr in range(1, 11):\n",
    "    y_pred = []\n",
    "    for i in range(len(X_test)):\n",
    "        #         print('---')\n",
    "        dist_leven = np.argsort(Matrix_ed[i])[:neighbr]\n",
    "        ys_leven = []\n",
    "        for x in dist_leven:\n",
    "            ys_leven.append(y_train.iloc[x])\n",
    "#             ys_leven.append(y_train.iloc[x])\n",
    "        ho_leven = stats.mode(ys_leven)\n",
    "        pred_leven1 = ho_leven[0][0]\n",
    "#         print(pred_leven)\n",
    "\n",
    "        dist_euc = np.argsort(Matrix[i])[:neighbr]\n",
    "        ys_euc = []\n",
    "        for x in dist_euc:\n",
    "            ys_euc.append(y_train.iloc[x])\n",
    "        ho_leven = stats.mode(ys_euc)\n",
    "        pred_leven2 = ho_leven[0][0]\n",
    "#         print(pred_leven)\n",
    "\n",
    "        merged_list = ys_leven + ys_euc\n",
    "        ho_merged = stats.mode(merged_list)\n",
    "        pred_leven3 = ho_merged[0][0]\n",
    "\n",
    "#         print(pred_leven1,pred_leven2,pred_leven3)\n",
    "        label2return = 0\n",
    "        if pred_leven1 == pred_leven2:\n",
    "            label2return = pred_leven2\n",
    "        else:\n",
    "            label2return = 5\n",
    "\n",
    "        y_pred.append(label2return)\n",
    "\n",
    "    acc = accuracy_score(y_test, y_pred)\n",
    "    print(f\"{neighbr} neighbors: {acc}\")"
   ]
  },
  {
   "cell_type": "markdown",
   "metadata": {},
   "source": [
    "# Hyperparameter testing"
   ]
  },
  {
   "cell_type": "code",
   "execution_count": null,
   "metadata": {},
   "outputs": [],
   "source": [
    "param_dict = {}\n",
    "Matrix_net = [[0 for x in range(len(X_train))] for y in range(len(X_test))]\n",
    "alpha = [0.001, 0.01, 0.05, 0.075, 0.1, 0.5, 0.75, 1, 10, 100, 1000]\n",
    "\n",
    "for alp in alpha:\n",
    "    print('='*50)\n",
    "    for i in range(len(Matrix)):\n",
    "        for j in range(len(Matrix[i])):\n",
    "            Matrix_net[i][j] = Matrix[i][j] + alp*Matrix_ed[i][j]\n",
    "\n",
    "    for neighbr in range(1, 11):\n",
    "        y_pred = []\n",
    "        for i in range(len(X_test)):\n",
    "            #   print('---')\n",
    "            #   print(Matrix_net[i])\n",
    "            dist = np.argsort(Matrix_net[i])[:neighbr]\n",
    "            ys = []\n",
    "            for x in dist:\n",
    "                ys.append(y_train.iloc[x])\n",
    "            ho = stats.mode(ys)\n",
    "            pred = ho[0][0]\n",
    "            y_pred.append(pred)\n",
    "        acc = accuracy_score(y_test, y_pred)\n",
    "        param_dict[str(f\"neighbors: {neighbr}, alpha: {alp}\")] = acc\n",
    "        print(f\"{neighbr} neighbors ---> Alpha {alp} ---> {acc}\")\n",
    "print('='*50)"
   ]
  },
  {
   "cell_type": "code",
   "execution_count": null,
   "metadata": {},
   "outputs": [],
   "source": [
    "print(\"=\"*20,\"[Best combination]\",\"=\"*20)\n",
    "best = max(param_dict, key=lambda i: param_dict[i])\n",
    "print(f\"> {best} : {param_dict[best]*100}%\")"
   ]
  },
  {
   "cell_type": "code",
   "execution_count": null,
   "metadata": {},
   "outputs": [],
   "source": [
    "param_dict = {}\n",
    "Matrix_net = [[0 for x in range(len(X_train))] for y in range(len(X_test))]\n",
    "alpha = [0.001, 0.01, 0.05, 0.075, 0.1, 0.5, 0.75, 1, 10, 100, 1000]\n",
    "\n",
    "for alp in alpha:\n",
    "    print('='*50)\n",
    "    for i in range(len(Matrix)):\n",
    "        for j in range(len(Matrix[i])):\n",
    "            Matrix_net[i][j] = alp*Matrix[i][j] + Matrix_ed[i][j]\n",
    "    for neighbr in range(1, 11):\n",
    "        y_pred = []\n",
    "        for i in range(len(X_test)):\n",
    "            #   print('---')\n",
    "            #   print(Matrix_net[i])\n",
    "            dist = np.argsort(Matrix_net[i])[:neighbr]\n",
    "            ys = []\n",
    "            for x in dist:\n",
    "                ys.append(y_train.iloc[x])\n",
    "            ho = stats.mode(ys)\n",
    "            pred = ho[0][0]\n",
    "            y_pred.append(pred)\n",
    "        acc = accuracy_score(y_test, y_pred)\n",
    "        param_dict[str(f\"neighbors: {neighbr}, alpha: {alp}\")] = acc\n",
    "        print(f\"{neighbr} neighbors ---> Alpha {alp} ---> {acc}\")\n",
    "print('='*50)"
   ]
  },
  {
   "cell_type": "code",
   "execution_count": null,
   "metadata": {},
   "outputs": [],
   "source": [
    "print(\"=\"*20,\"[Best combination]\",\"=\"*20)\n",
    "best = max(param_dict, key=lambda i: param_dict[i])\n",
    "print(f\"> {best} : {param_dict[best]*100}%\")"
   ]
  }
 ],
 "metadata": {
  "hide_input": false,
  "kernelspec": {
   "display_name": "Python 3",
   "language": "python",
   "name": "python3"
  },
  "language_info": {
   "codemirror_mode": {
    "name": "ipython",
    "version": 3
   },
   "file_extension": ".py",
   "mimetype": "text/x-python",
   "name": "python",
   "nbconvert_exporter": "python",
   "pygments_lexer": "ipython3",
   "version": "3.6.8"
  },
  "toc": {
   "base_numbering": 1,
   "nav_menu": {},
   "number_sections": true,
   "sideBar": true,
   "skip_h1_title": false,
   "title_cell": "Table of Contents",
   "title_sidebar": "Contents",
   "toc_cell": false,
   "toc_position": {},
   "toc_section_display": true,
   "toc_window_display": false
  },
  "varInspector": {
   "cols": {
    "lenName": 16,
    "lenType": 16,
    "lenVar": 40
   },
   "kernels_config": {
    "python": {
     "delete_cmd_postfix": "",
     "delete_cmd_prefix": "del ",
     "library": "var_list.py",
     "varRefreshCmd": "print(var_dic_list())"
    },
    "r": {
     "delete_cmd_postfix": ") ",
     "delete_cmd_prefix": "rm(",
     "library": "var_list.r",
     "varRefreshCmd": "cat(var_dic_list()) "
    }
   },
   "types_to_exclude": [
    "module",
    "function",
    "builtin_function_or_method",
    "instance",
    "_Feature"
   ],
   "window_display": false
  }
 },
 "nbformat": 4,
 "nbformat_minor": 2
}
